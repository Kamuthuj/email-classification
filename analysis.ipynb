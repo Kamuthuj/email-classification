{
 "cells": [
  {
   "cell_type": "markdown",
   "metadata": {},
   "source": [
    "# Project overview.\n",
    "- The project aims to classify whether an email is a spam or not a spam.\n",
    "-  This is a supervised classification task as it uses labelled data.\n",
    "\n",
    "# Method.\n",
    "1. Have an overview of the dataset.\n",
    "2. Data preprocessing using NLTK on text data.\n",
    "3. Text normalization.\n",
    "4. Tokenization of the emails.\n",
    "5. Export the preprocessed data.\n",
    "6. Model training - Split data to input and target features.\n",
    "7. Model selection.\n",
    "8. Cross validation of the model using different metrics.\n",
    "9. Save the model for deployment in a production env."
   ]
  },
  {
   "cell_type": "code",
   "execution_count": 52,
   "metadata": {},
   "outputs": [],
   "source": [
    "import pandas as pd\n",
    "import numpy as np\n",
    "import matplotlib.pyplot as plt\n",
    "import seaborn as sns\n",
    "sns.set(style=\"whitegrid\")\n",
    "import nltk\n",
    "import re\n",
    "from nltk.corpus import stopwords\n",
    "from nltk.stem import SnowballStemmer\n",
    "from sklearn.feature_extraction.text import CountVectorizer\n",
    "from sklearn.preprocessing import LabelBinarizer\n",
    "from sklearn.model_selection import train_test_split,learning_curve\n",
    "from sklearn.naive_bayes import GaussianNB\n",
    "from sklearn.metrics import accuracy_score,precision_score,recall_score,confusion_matrix,ConfusionMatrixDisplay,f1_score,classification_report\n",
    "import joblib"
   ]
  },
  {
   "cell_type": "code",
   "execution_count": 3,
   "metadata": {},
   "outputs": [],
   "source": [
    "# Load the data.\n",
    "df = pd.read_csv(\"labeled_emails.csv\")"
   ]
  },
  {
   "cell_type": "markdown",
   "metadata": {},
   "source": [
    "# Data preprocessing.\n"
   ]
  },
  {
   "cell_type": "code",
   "execution_count": 4,
   "metadata": {},
   "outputs": [
    {
     "data": {
      "text/html": [
       "<div>\n",
       "<style scoped>\n",
       "    .dataframe tbody tr th:only-of-type {\n",
       "        vertical-align: middle;\n",
       "    }\n",
       "\n",
       "    .dataframe tbody tr th {\n",
       "        vertical-align: top;\n",
       "    }\n",
       "\n",
       "    .dataframe thead th {\n",
       "        text-align: right;\n",
       "    }\n",
       "</style>\n",
       "<table border=\"1\" class=\"dataframe\">\n",
       "  <thead>\n",
       "    <tr style=\"text-align: right;\">\n",
       "      <th></th>\n",
       "      <th>email</th>\n",
       "      <th>label</th>\n",
       "    </tr>\n",
       "  </thead>\n",
       "  <tbody>\n",
       "    <tr>\n",
       "      <th>0</th>\n",
       "      <td>Subject: re : rankings\\nthank you .</td>\n",
       "      <td>ham</td>\n",
       "    </tr>\n",
       "    <tr>\n",
       "      <th>1</th>\n",
       "      <td>Subject: re : visit to enron\\nvince ,\\ndec . 2...</td>\n",
       "      <td>ham</td>\n",
       "    </tr>\n",
       "    <tr>\n",
       "      <th>2</th>\n",
       "      <td>Subject: research group move to the 19 th floo...</td>\n",
       "      <td>ham</td>\n",
       "    </tr>\n",
       "    <tr>\n",
       "      <th>3</th>\n",
       "      <td>Subject: christmas baskets\\nthe christmas bask...</td>\n",
       "      <td>ham</td>\n",
       "    </tr>\n",
       "    <tr>\n",
       "      <th>4</th>\n",
       "      <td>Subject: japan candidate\\nvince ,\\ni spoke wit...</td>\n",
       "      <td>ham</td>\n",
       "    </tr>\n",
       "  </tbody>\n",
       "</table>\n",
       "</div>"
      ],
      "text/plain": [
       "                                               email label\n",
       "0                Subject: re : rankings\\nthank you .   ham\n",
       "1  Subject: re : visit to enron\\nvince ,\\ndec . 2...   ham\n",
       "2  Subject: research group move to the 19 th floo...   ham\n",
       "3  Subject: christmas baskets\\nthe christmas bask...   ham\n",
       "4  Subject: japan candidate\\nvince ,\\ni spoke wit...   ham"
      ]
     },
     "execution_count": 4,
     "metadata": {},
     "output_type": "execute_result"
    }
   ],
   "source": [
    "df.head()"
   ]
  },
  {
   "cell_type": "code",
   "execution_count": 5,
   "metadata": {},
   "outputs": [],
   "source": [
    "# Checking on the data labels"
   ]
  },
  {
   "cell_type": "code",
   "execution_count": 6,
   "metadata": {},
   "outputs": [
    {
     "data": {
      "text/plain": [
       "array(['ham', 'spam'], dtype=object)"
      ]
     },
     "execution_count": 6,
     "metadata": {},
     "output_type": "execute_result"
    }
   ],
   "source": [
    "df.iloc[:,1].unique()"
   ]
  },
  {
   "cell_type": "code",
   "execution_count": 54,
   "metadata": {},
   "outputs": [
    {
     "data": {
      "text/plain": [
       "aa         0\n",
       "ab         0\n",
       "abil       0\n",
       "abl        0\n",
       "absolut    0\n",
       "          ..\n",
       "yield      0\n",
       "york       0\n",
       "young      0\n",
       "zimin      0\n",
       "label      0\n",
       "Length: 2001, dtype: int64"
      ]
     },
     "execution_count": 54,
     "metadata": {},
     "output_type": "execute_result"
    }
   ],
   "source": [
    "# Checking for missing values\n",
    "df.isnull().sum()"
   ]
  },
  {
   "cell_type": "code",
   "execution_count": 7,
   "metadata": {},
   "outputs": [
    {
     "data": {
      "text/plain": [
       "'Subject: announcing tff 2000\\nhappy new year ! just a note to announce the dates for this years texas\\nfinance festival . this year we are meeting earlier in april , in san\\nantonio , and start the program on friday . please put the date on you\\ncalendar and send in your registration forms asap as space at the\\nconference is limited . i also encourage you to register with the hotel\\nimmediately as we were able to reserve only a limited number of rooms at\\nthe reduced conference rate .\\nhope to see you all there ! more fun in texas .\\njohn\\n- announcerev . doc\\njohn d . martin\\ncarr p . collins chair in finance\\nfinance department\\nbaylor university\\npo box 98004\\nwaco , tx 76798\\n254 - 710 - 4473 ( office )\\n254 - 710 - 1092 ( fax )\\nj _ martin @ baylor . edu\\nweb : http : / / hsb . baylor . edu / html / martinj / home . html'"
      ]
     },
     "execution_count": 7,
     "metadata": {},
     "output_type": "execute_result"
    }
   ],
   "source": [
    "# Select a random observation to view.\n",
    "n_mail = 50\n",
    "df[\"email\"][n_mail]"
   ]
  },
  {
   "cell_type": "code",
   "execution_count": 8,
   "metadata": {},
   "outputs": [
    {
     "name": "stdout",
     "output_type": "stream",
     "text": [
      "{'at', \"wouldn't\", \"shan't\", \"doesn't\", \"don't\", 'where', 'have', 'm', 'wasn', 'll', 're', 'haven', 'does', 'such', 'how', 'few', \"shouldn't\", \"wasn't\", 'who', \"you'll\", 'me', 'of', 'our', 'herself', 'yourself', 'should', 'all', 'you', 'weren', 'during', 'those', 'they', 't', \"mightn't\", 'shouldn', 'be', 'until', 'doesn', 'between', 'from', 'wouldn', 'here', 'he', 'nor', 's', 'we', 'these', 'don', 'than', 'if', 'above', 'down', 'themselves', 'been', 'same', 'she', 'own', 'i', 'yourselves', 'your', 'while', 'out', 'ourselves', 'to', 'very', 'having', 'by', 'whom', 'needn', 'up', 'each', 'hers', 'yours', 'him', 'in', 'it', 'about', 'isn', 'just', 'further', 'ours', 'after', 'only', 'd', 'did', 'then', \"aren't\", 'y', \"weren't\", \"hadn't\", 'has', \"it's\", 'himself', 'their', 'ma', \"you're\", 'this', \"hasn't\", \"couldn't\", \"won't\", 'there', 'other', \"that'll\", 'under', 'again', 'not', 'shan', \"mustn't\", 'won', \"didn't\", 'an', 'so', 'but', 'over', 'below', 'her', 'which', 'a', \"should've\", 'or', \"isn't\", 'were', 'both', 'for', 'the', 'had', 'any', 'mightn', 'aren', 'now', \"haven't\", 'them', 'too', 'before', 'hasn', \"she's\", 'theirs', 'didn', 'on', 'being', 'myself', 'that', 'no', \"needn't\", 'through', 'ain', 'is', 'are', 'more', 'once', \"you've\", 'couldn', 'into', 'was', 'mustn', 'o', 'hadn', 'my', 'most', 'because', \"you'd\", 'off', 'and', 'when', 'its', 'am', 'itself', 've', 'with', 'do', 'can', 'will', 'what', 'as', 'why', 'doing', 'against', 'some', 'his'}\n"
     ]
    }
   ],
   "source": [
    "# preproessing the words using the nltk\n",
    "# Downloaded the stopwords package\n",
    "stop = set(stopwords.words(\"english\"))\n",
    "print(stop)"
   ]
  },
  {
   "cell_type": "markdown",
   "metadata": {},
   "source": [
    "# Preprocess text-words message"
   ]
  },
  {
   "cell_type": "code",
   "execution_count": 9,
   "metadata": {},
   "outputs": [],
   "source": [
    "# Reducing words to their root form\n",
    "snow = nltk.stem.SnowballStemmer(\"english\")\n"
   ]
  },
  {
   "cell_type": "markdown",
   "metadata": {},
   "source": [
    "# Message normalization."
   ]
  },
  {
   "cell_type": "code",
   "execution_count": 10,
   "metadata": {},
   "outputs": [],
   "source": [
    "def preprocess_words(sentence):\n",
    "    # Initialize stemmer and stopwords\n",
    "    snow = SnowballStemmer(\"english\")\n",
    "    stop_words = set(stopwords.words(\"english\"))\n",
    "\n",
    "    # Convert to lowercase\n",
    "    sentence = sentence.lower()\n",
    "\n",
    "    # Remove HTML tags\n",
    "    sentence = re.sub(r\"<.*?>\", \" \", sentence)\n",
    "\n",
    "    # Replace URLs with a placeholder\n",
    "    sentence = re.sub(r\"(http|https)://\\S+\", \"httpaddr\", sentence)\n",
    "\n",
    "    # Remove specific punctuations (!, ?, ', \", #)\n",
    "    sentence = re.sub(r\"[?|!|'|\\\"|#]\", \"\", sentence)\n",
    "\n",
    "    # Replace certain punctuations (., (, ), |, /, :)\n",
    "    sentence = re.sub(r\"[.|,|)|(|\\|/|:]\", \" \", sentence)\n",
    "\n",
    "    # Replace email addresses with a placeholder\n",
    "    sentence = re.sub(r\"\\S+@\\S+\\.com\", \"emailaddr\", sentence)\n",
    "\n",
    "    # Replace numeric values with a placeholder\n",
    "    sentence = re.sub(r\"\\d+\", \"number\", sentence)\n",
    "\n",
    "    # Replace dollar signs with a placeholder\n",
    "    sentence = re.sub(r\"[$]+\", \"dollar\", sentence)\n",
    "\n",
    "    # Remove non-alphanumeric characters (except letters and numbers)\n",
    "    sentence = re.sub(r\"[^a-zA-Z0-9]\", \" \", sentence)\n",
    "\n",
    "    # Remove occurrences of the word 'subject'\n",
    "    sentence = re.sub(r\"\\bsubject\\b\", \"\", sentence)\n",
    "\n",
    "    # Tokenize, stem, and remove stopwords\n",
    "    words = [\n",
    "        snow.stem(word) for word in sentence.split() if word not in stop_words\n",
    "    ]\n",
    "    \n",
    "    return words"
   ]
  },
  {
   "cell_type": "code",
   "execution_count": 11,
   "metadata": {},
   "outputs": [
    {
     "name": "stdout",
     "output_type": "stream",
     "text": [
      "5854/5854"
     ]
    }
   ],
   "source": [
    "# Apply the preprocessing function to the emails\n",
    "text_list = []\n",
    "counter = 0\n",
    "\n",
    "for sentence in df[\"email\"]:\n",
    "    text_list.append(preprocess_words(sentence))\n",
    "    counter += 1\n",
    "    print('\\r{}/{}'.format(counter,len(df[\"email\"])),end=\"\")"
   ]
  },
  {
   "cell_type": "code",
   "execution_count": 12,
   "metadata": {},
   "outputs": [
    {
     "name": "stdout",
     "output_type": "stream",
     "text": [
      "['announc', 'tff', 'number', 'happi', 'new', 'year', 'note', 'announc', 'date', 'year', 'texa', 'financ', 'festiv', 'year', 'meet', 'earlier', 'april', 'san', 'antonio', 'start', 'program', 'friday', 'pleas', 'put', 'date', 'calendar', 'send', 'registr', 'form', 'asap', 'space', 'confer', 'limit', 'also', 'encourag', 'regist', 'hotel', 'immedi', 'abl', 'reserv', 'limit', 'number', 'room', 'reduc', 'confer', 'rate', 'hope', 'see', 'fun', 'texa', 'john', 'announcerev', 'doc', 'john', 'martin', 'carr', 'p', 'collin', 'chair', 'financ', 'financ', 'depart', 'baylor', 'univers', 'po', 'box', 'number', 'waco', 'tx', 'number', 'number', 'number', 'number', 'offic', 'number', 'number', 'number', 'fax', 'j', 'martin', 'baylor', 'edu', 'web', 'http', 'hsb', 'baylor', 'edu', 'html', 'martinj', 'home', 'html']\n"
     ]
    }
   ],
   "source": [
    "# Printing the processed emails\n",
    "print(text_list[n_mail])\n"
   ]
  },
  {
   "cell_type": "code",
   "execution_count": 13,
   "metadata": {},
   "outputs": [
    {
     "name": "stdout",
     "output_type": "stream",
     "text": [
      "5854/5854"
     ]
    }
   ],
   "source": [
    "# Preprocess and join the words in each email\n",
    "email_process = []\n",
    "counter = 0\n",
    "for row in text_list:\n",
    "    sequ = \"\"\n",
    "    for word in row:\n",
    "        sequ = sequ + \" \" + word\n",
    "    email_process.append(sequ)\n",
    "    counter += 1\n",
    "    print(\"\\r{}/{}\".format(counter,len(text_list)),end=\"\")"
   ]
  },
  {
   "cell_type": "code",
   "execution_count": 14,
   "metadata": {},
   "outputs": [
    {
     "data": {
      "text/plain": [
       "' announc tff number happi new year note announc date year texa financ festiv year meet earlier april san antonio start program friday pleas put date calendar send registr form asap space confer limit also encourag regist hotel immedi abl reserv limit number room reduc confer rate hope see fun texa john announcerev doc john martin carr p collin chair financ financ depart baylor univers po box number waco tx number number number number offic number number number fax j martin baylor edu web http hsb baylor edu html martinj home html'"
      ]
     },
     "execution_count": 14,
     "metadata": {},
     "output_type": "execute_result"
    }
   ],
   "source": [
    "email_process[n_mail]"
   ]
  },
  {
   "cell_type": "code",
   "execution_count": 15,
   "metadata": {},
   "outputs": [
    {
     "name": "stdout",
     "output_type": "stream",
     "text": [
      "Count words in email: 91\n",
      "\n",
      "Email list words:\n",
      "\n",
      "announc tff number happi new year note announc date year texa financ festiv year meet earlier april san antonio start \n",
      "program friday pleas put date calendar send registr form asap space confer limit also encourag regist hotel immedi abl reserv \n",
      "limit number room reduc confer rate hope see fun texa john announcerev doc john martin carr p collin chair financ \n",
      "financ depart baylor univers po box number waco tx number number number number offic number number number fax j martin \n",
      "baylor edu web http hsb baylor edu html martinj home html "
     ]
    }
   ],
   "source": [
    "#Print email 20 words per row and count number words\n",
    "print(\"Count words in email: {}\".format(len(text_list[n_mail])))\n",
    "print(\"\\nEmail list words:\\n\")\n",
    "#Print list words in email\n",
    "count = 0\n",
    "for word in text_list[n_mail]:\n",
    "  print(word,end=' ')\n",
    "  count += 1\n",
    "  if count == 20:\n",
    "    print(\"\")\n",
    "    count = 0"
   ]
  },
  {
   "cell_type": "markdown",
   "metadata": {},
   "source": [
    "# Tokenization."
   ]
  },
  {
   "cell_type": "code",
   "execution_count": 16,
   "metadata": {},
   "outputs": [],
   "source": [
    "#Function to tokenize the emails\n",
    "\n",
    "def email_tokenization(data, features=500):\n",
    "  count_vect = CountVectorizer(max_features=features)\n",
    "  count_matrix = count_vect.fit_transform(data)\n",
    "  count_array = count_matrix.toarray()\n",
    "  tokens = pd.DataFrame(data=count_array, columns=count_vect.get_feature_names_out()) \n",
    "  vocab = count_vect.vocabulary_\n",
    "  return (tokens, vocab)\n"
   ]
  },
  {
   "cell_type": "code",
   "execution_count": 17,
   "metadata": {},
   "outputs": [
    {
     "name": "stdout",
     "output_type": "stream",
     "text": [
      "{'rank': 1449, 'thank': 1789, 'visit': 1915, 'enron': 571, 'vinc': 1910, 'dec': 440, 'number': 1222, 'fine': 678, 'talk': 1764, 'shirley': 1618, 'direct': 485, 'bob': 192, 'kaminski': 948, 'wrote': 1986, 'come': 325, 'offic': 1235, 'pleas': 1349, 'call': 234, 'crenshaw': 409, 'stinson': 1705, 'gibner': 746, 'recept': 1469, 'build': 221, 'research': 1502, 'group': 774, 'move': 1167, 'th': 1788, 'floor': 690, 'hello': 800, 'case': 259, 'feel': 668, 'box': 200, 'locat': 1036, 'michael': 1136, 'old': 1239, 'desk': 471, 'free': 711, 'take': 1761, 'mani': 1082, 'need': 1192, 'sure': 1750, 'everyth': 609, 'new': 1202, 'file': 672, 'list': 1027, 'eb': 527, 'joseph': 940, 'hrgovcic': 834, 'paulo': 1300, 'issler': 915, 'krishna': 971, 'krishnarao': 972, 'martin': 1097, 'lin': 1022, 'grant': 765, 'masson': 1099, 'kevin': 956, 'moor': 1163, 'maureen': 1109, 'raymond': 1454, 'mike': 1142, 'robert': 1530, 'vasant': 1897, 'shanbhogu': 1607, 'vincent': 1911, 'ravi': 1453, 'thuraisingham': 1801, 'zimin': 1999, 'lu': 1058, 'question': 1440, 'assist': 124, 'contact': 370, 'sam': 1550, 'great': 767, 'day': 434, 'christma': 300, 'basket': 165, 'order': 1252, 'sever': 1599, 'individu': 874, 'smith': 1644, 'key': 957, 'matt': 1106, 'davi': 431, 'team': 1772, 'chris': 297, 'telephon': 1779, 'servic': 1596, 'mari': 1091, 'dept': 463, 'william': 1965, 'special': 1670, 'greg': 771, 'whalley': 1952, 'richard': 1525, 'week': 1944, 'request': 1500, 'price': 1384, 'inform': 877, 'also': 65, 'card': 250, 'let': 1010, 'know': 965, 'candid': 241, 'spoke': 1678, 'sa': 1543, 'mention': 1127, 'person': 1320, 'could': 395, 'bring': 212, 'talent': 1763, 'evalu': 603, 'merchant': 1128, 'busi': 225, 'sydney': 1757, 'today': 1813, 'next': 1205, 'would': 1982, 'like': 1020, 'speak': 1668, 'time': 1809, 'might': 1140, 'avail': 145, 'mobil': 1152, 'regard': 1478, 'joe': 934, 'break': 204, 'fyi': 728, 'forward': 706, 'hou': 827, 'ect': 533, 'van': 1892, 'cc': 265, 'dear': 438, 'holiday': 819, 'approach': 104, 'excit': 618, 'class': 305, 'opportun': 1247, 'see': 1576, 'everyon': 608, 'work': 1977, 'soon': 1659, 'write': 1983, 'happi': 789, 'plan': 1344, 'schedul': 1561, 'offici': 1236, 'end': 563, 'may': 1112, 'town': 1827, 'follow': 695, 'three': 1799, 'monday': 1158, 'friday': 715, 'jan': 922, 'date': 429, 'help': 801, 'arrang': 111, 'andrea': 80, 'concern': 349, 'possibl': 1363, 'give': 749, 'wish': 1972, 'season': 1568, 'look': 1045, 'sincer': 1632, 'ph': 1326, 'htm': 836, 'near': 1190, 'good': 759, 'morn': 1165, 'apolog': 97, 'go': 753, 'abl': 3, 'parti': 1288, 'first': 681, 'year': 1992, 'want': 1933, 'use': 1881, 'hous': 829, 'west': 1950, 'univers': 1867, 'last': 985, 'suggest': 1734, 'lot': 1050, 'peopl': 1310, 'vacat': 1887, 'wait': 1929, 'way': 1938, 'advantag': 30, 'sale': 1548, 'gift': 747, 'rememb': 1491, 'name': 1183, 'pinnamaneni': 1340, 'samer': 1551, 'amitava': 72, 'dhar': 477, 'corp': 389, 'alex': 55, 'huang': 839, 'kindal': 963, 'osman': 1259, 'sezgen': 1603, 'ee': 538, 'tanya': 1767, 'tamarchenko': 1765, 'jason': 924, 'sokolov': 1649, 'complet': 342, 'make': 1078, 'exchang': 617, 'thing': 1792, 'went': 1949, 'well': 1948, 'yesterday': 1994, 'remind': 1492, 'unabl': 1859, 'attend': 131, 'stop': 1708, 'particip': 1289, 'enter': 575, 'guess': 778, 'reason': 1465, 'includ': 865, 'return': 1518, 'draw': 510, 'thursday': 1802, 'share': 1610, 'show': 1622, 'appreci': 103, 'one': 1240, 'anoth': 88, 'join': 936, 'later': 987, 'stay': 1698, 'chanc': 279, 'present': 1378, 'keep': 952, 'simpl': 1628, 'less': 1009, 'dollar': 498, 'alreadi': 64, 'info': 876, 'wonder': 1975, 'close': 311, 'trader': 1830, 'import': 861, 'quick': 1441, 'communic': 335, 'color': 321, 'printer': 1389, 'perfect': 1314, 'ebl': 529, 'co': 314, 'technolog': 1776, 'deliveri': 454, 'unless': 1869, 'advis': 33, 'rd': 1456, 'charg': 282, 'yes': 1993, 'right': 1527, 'away': 151, 'current': 417, 'process': 1400, 'matter': 1107, 'get': 745, 'deliv': 453, 'sorri': 1660, 'cost': 394, 'sent': 1589, 'purchas': 1429, 'option': 1251, 'central': 272, 'check': 288, 'kind': 962, 'thought': 1797, 'seem': 1578, 'awar': 149, 'us': 1879, 'ask': 118, 'think': 1793, 'anyth': 93, 'big': 183, 'area': 109, 'capit': 247, 'meet': 1120, 'tri': 1843, 'differ': 480, 'confer': 353, 'room': 1536, 'obtain': 1228, 'jim': 931, 'electr': 547, 'gas': 738, 'david': 432, 'weather': 1939, 'ed': 534, 'paper': 1280, 'noon': 1211, 'lunch': 1059, 'pm': 1352, 'discuss': 492, 'advanc': 29, 'mine': 1146, 'written': 1984, 'suppos': 1748, 'publish': 1428, 'februari': 664, 'issu': 916, 'eprm': 585, 'probabl': 1396, 'cut': 420, 'least': 999, 'told': 1815, 'read': 1459, 'doc': 495, 'invit': 910, 'power': 1366, 'hi': 807, 'pleasur': 1350, 'houston': 830, 'interest': 898, 'chair': 276, 'stream': 1714, 'full': 720, 'obvious': 1229, 'longer': 1044, 'choic': 294, 'much': 1174, 'back': 152, 'asap': 115, 'ext': 637, 'email': 554, 'hope': 822, 'hear': 795, 'say': 1559, 'best': 179, 'speaker': 1669, 'origin': 1258, 'messag': 1129, 'decemb': 441, 'associ': 125, 'recommend': 1471, 'respond': 1508, 'base': 162, 'find': 677, 'train': 1833, 'cours': 401, 'produc': 1401, 'mont': 1161, 'carlo': 253, 'techniqu': 1775, 'realli': 1464, 'detect': 474, 'pipelin': 1341, 'capac': 246, 'basi': 163, 'actual': 21, 'market': 1093, 'buyer': 228, 'physic': 1334, 'run': 1542, 'generat': 742, 'transmiss': 1837, 'note': 1215, 'storag': 1709, 'appear': 99, 'two': 1852, 'seri': 1592, 'model': 1153, 'flow': 691, 'rate': 1451, 'interconnect': 897, 'spot': 1680, 'reflect': 1477, 'compani': 337, 'contract': 375, 'dynam': 518, 'demand': 456, 'chang': 280, 'due': 513, 'expect': 626, 'impact': 858, 'high': 809, 'strateg': 1712, 'set': 1598, 'understand': 1862, 'term': 1783, 'exot': 623, 'final': 674, 'explain': 633, 'necessari': 1191, 'result': 1514, 'stochast': 1706, 'believ': 173, 'problem': 1397, 'quit': 1442, 'proceed': 1399, 'clayton': 306, 'organiz': 1257, 'north': 1214, 'america': 69, 'baxter': 166, 'juli': 944, 'part': 1287, 'ena': 559, 'implement': 859, 'object': 1226, 'highlight': 812, 'critic': 411, 'continu': 374, 'growth': 776, 'develop': 476, 'signific': 1626, 'expand': 625, 'custom': 419, 'network': 1200, 'enhanc': 567, 'within': 1973, 'across': 17, 'consist': 364, 'corpor': 390, 'goal': 754, 'coverag': 404, 'focus': 693, 'rang': 1448, 'product': 1402, 'industri': 875, 'refin': 1476, 'metal': 1131, 'manufactur': 1084, 'transport': 1838, 'eastern': 526, 'western': 1951, 'energi': 564, 'financ': 675, 'deregul': 464, 'becom': 168, 'clear': 308, 'creat': 406, 'innov': 880, 'solut': 1653, 'capabl': 245, 'function': 722, 'offer': 1234, 'exist': 622, 'commod': 333, 'asset': 122, 'global': 752, 'fuel': 719, 'risk': 1528, 'manag': 1081, 'addit': 24, 'given': 750, 'size': 1639, 'initi': 879, 'leadership': 997, 'effort': 541, 'natur': 1186, 'activ': 20, 'respons': 1509, 'lead': 995, 'non': 1209, 'integr': 892, 'former': 702, 'leader': 996, 'trust': 1848, 'london': 1042, 'util': 1886, 'assum': 126, 'qualifi': 1434, 'facil': 645, 'restructur': 1513, 'structur': 1720, 'emerg': 555, 'control': 377, 'larg': 982, 'portfolio': 1360, 'either': 545, 'acquisit': 16, 'east': 525, 'dave': 430, 'doug': 504, 'form': 699, 'commerci': 329, 'transact': 1834, 'head': 793, 'jeff': 928, 'provid': 1424, 'resourc': 1506, 'execut': 620, 'improv': 863, 'effici': 540, 'increas': 868, 'client': 310, 'six': 1638, 'primari': 1385, 'support': 1747, 'account': 11, 'technic': 1774, 'analysi': 75, 'deal': 437, 'optim': 1250, 'aspect': 120, 'four': 708, 'dedic': 445, 'specif': 1672, 'link': 1024, 'better': 181, 'greater': 768, 'howev': 832, 'design': 469, 'flexibl': 686, 'alloc': 58, 'highest': 811, 'valu': 1889, 'senior': 1586, 'member': 1122, 'georg': 743, 'recent': 1468, 'vice': 1906, 'presid': 1379, 'environment': 583, 'establish': 595, 'anticip': 91, 'announc': 86, 'plant': 1345, 'thoma': 1795, 'andi': 78, 'john': 935, 'american': 70, 'brad': 201, 'vp': 1925, 'prior': 1390, 'remain': 1490, 'respect': 1507, 'togeth': 1814, 'knowledg': 966, 'particular': 1290, 'partnership': 1292, 'success': 1732, 'enjoy': 568, 'perform': 1315, 'grow': 775, 'top': 1821, 'essenti': 593, 'heard': 796, 'titl': 1810, 'review': 1521, 'promot': 1415, 'compens': 339, 'accord': 10, 'standard': 1689, 'rather': 1452, 'tie': 1805, 'job': 933, 'report': 1498, 'relationship': 1486, 'throughout': 1800, 'level': 1012, 'chairman': 277, 'committe': 332, 'made': 1064, 'director': 486, 'common': 334, 'refer': 1475, 'prc': 1369, 'occur': 1230, 'feedback': 667, 'purpos': 1430, 'bonus': 195, 'total': 1823, 'consider': 363, 'handl': 787, 'unit': 1866, 'cross': 412, 'approxim': 107, 'insur': 891, 'overal': 1268, 'pool': 1357, 'tool': 1820, 'effect': 539, 'organ': 1255, 'consid': 362, 'januari': 923, 'except': 615, 'intern': 900, 'extern': 640, 'start': 1691, 'point': 1354, 'decis': 443, 'pay': 1302, 'long': 1043, 'award': 150, 'program': 1409, 'replac': 1496, 'approv': 106, 'payment': 1303, 'general': 741, 'benchmark': 175, 'determin': 475, 'futur': 725, 'human': 841, 'per': 1312, 'ann': 85, 'trade': 1829, 'bennett': 177, 'jone': 938, 'oper': 1245, 'engin': 566, 'construct': 367, 'scott': 1565, 'china': 293, 'lng': 1032, 'india': 872, 'rice': 1523, 'financi': 676, 'toni': 1818, 'tomorrow': 1817, 'attach': 129, 'draft': 508, 'propos': 1419, 'copi': 384, 'kathi': 951, 'professor': 1406, 'depart': 460, 'statist': 1696, 'ms': 1170, 'tx': 1853, 'edu': 536, 'phone': 1331, 'fax': 660, 'session': 1597, 'topic': 1822, 'appli': 100, 'real': 1462, 'theori': 1790, 'difficulti': 482, 'accur': 12, 'estim': 597, 'volatil': 1923, 'intellig': 893, 'el': 546, 'someon': 1655, 'match': 1101, 'still': 1704, 'kim': 959, 'kimber': 960, 'watson': 1937, 'et': 598, 'stori': 1711, 'craig': 405, 'allen': 56, 'steve': 1702, 'morgan': 1164, 'harri': 791, 'jame': 921, 'stephen': 1701, 'bill': 185, 'vernon': 1902, 'larri': 984, 'ken': 954, 'frank': 710, 'karen': 949, 'steven': 1703, 'barri': 161, 'stage': 1687, 'tim': 1808, 'rick': 1526, 'sheila': 1613, 'white': 1956, 'negoti': 1194, 'confirm': 356, 'firm': 680, 'california': 233, 'daili': 424, 'higher': 810, 'bid': 182, 'submit': 1727, 'wednesday': 1943, 'deadlin': 436, 'open': 1244, 'said': 1546, 'afternoon': 40, 'retain': 1517, 'million': 1143, 'amount': 74, 'sourc': 1663, 'will': 1964, 'space': 1666, 'mark': 1092, 'worth': 1981, 'late': 986, 'recipi': 1470, 'packag': 1274, 'hold': 818, 'ferc': 669, 'els': 553, 'came': 236, 'procedur': 1398, 'ft': 718, 'expir': 632, 'sound': 1662, 'sort': 1661, 'sens': 1587, 'discount': 490, 'san': 1553, 'indic': 873, 'involv': 912, 'lost': 1049, 'round': 1538, 'happen': 788, 'southern': 1665, 'spread': 1681, 'exercis': 621, 'peak': 1307, 'index': 871, 'cent': 269, 'gap': 734, 'brief': 210, 'summari': 1738, 'relat': 1485, 'typic': 1855, 'month': 1162, 'exampl': 613, 'south': 1664, 'texa': 1786, 'fix': 684, 'variabl': 1894, 'expens': 627, 'quot': 1443, 'nymex': 1225, 'excel': 614, 'maximum': 1111, 'yet': 1995, 'etc': 599, 'system': 1759, 'cover': 403, 'posit': 1362, 'susan': 1753, 'materi': 1102, 'send': 1584, 'site': 1636, 'http': 838, 'www': 1988, 'org': 1254, 'parent': 1282, 'urgent': 1877, 'gather': 739, 'net': 1199, 'cannot': 242, 'revis': 1522, 'put': 1432, 'brochur': 215, 'taken': 1762, 'latest': 988, 'pg': 1325, 'correl': 392, 'gari': 735, 'stanford': 1690, 'school': 1562, 'washington': 1934, 'curv': 418, 'slot': 1642, 'european': 602, 'april': 108, 'angela': 82, 'shall': 1606, 'glad': 751, 'whether': 1955, 'never': 1201, 'earlier': 520, 'receiv': 1467, 'favor': 659, 'comment': 327, 'express': 636, 'host': 823, 'especi': 592, 'around': 110, 'websit': 1941, 'applic': 101, 'detail': 473, 'marc': 1087, 'tel': 1778, 'organis': 1256, 'guy': 781, 'graduat': 764, 'formal': 700, 'europ': 601, 'permit': 1319, 'uk': 1856, 'readi': 1461, 'earli': 519, 'sell': 1582, 'car': 249, 'miss': 1148, 'student': 1721, 'video': 1907, 'noth': 1216, 'trip': 1845, 'reach': 1457, 'cell': 268, 'depend': 461, 'copier': 385, 'digit': 483, 'machin': 1061, 'nd': 1188, 'extrem': 643, 'fast': 658, 'agre': 46, 'notic': 1217, 'button': 226, 'connect': 361, 'comput': 347, 'rc': 1455, 'pictur': 1337, 'convers': 380, 'spreadsheet': 1682, 'plus': 1351, 'true': 1846, 'world': 1979, 'speed': 1674, 'center': 270, 'volum': 1924, 'averag': 147, 'left': 1002, 'play': 1347, 'figur': 671, 'imag': 855, 'affect': 37, 'toward': 1826, 'suppli': 1745, 'lab': 975, 'incorpor': 867, 'independ': 870, 'test': 1785, 'equip': 586, 'quarter': 1438, 'unfortun': 1864, 'releas': 1487, 'mail': 1068, 'wide': 1960, 'various': 1896, 'soft': 1647, 'url': 1878, 'overview': 1269, 'minut': 1147, 'click': 309, 'usa': 1880, 'com': 323, 'fea': 661, 'html': 837, 'featur': 662, 'record': 1472, 'target': 1768, 'region': 1479, 'max': 1110, 'environ': 582, 'print': 1388, 'sheet': 1612, 'everi': 607, 'document': 497, 'supervisor': 1744, 'administr': 27, 'properti': 1418, 'privileg': 1394, 'confidenti': 355, 'contain': 371, 'anyon': 92, 'notifi': 1219, 'immedi': 857, 'employ': 556, 'internet': 901, 'opinion': 1246, 'conclus': 350, 'otherwis': 1262, 'author': 142, 'repres': 1499, 'les': 1008, 'along': 62, 'prepar': 1376, 'similar': 1627, 'previous': 1383, 'event': 605, 'ben': 174, 'parson': 1286, 'lon': 1041, 'enclos': 561, 'annual': 87, 'congress': 360, 'seminar': 1583, 'var': 1893, 'main': 1074, 'deriv': 465, 'enterpris': 576, 'project': 1412, 'sign': 1625, 'therefor': 1791, 'conveni': 378, 'screen': 1566, 'sun': 1740, 'monitor': 1160, 'status': 1697, 'place': 1343, 'black': 188, 'secur': 1575, 'view': 1908, 'doubl': 503, 'step': 1700, 'edit': 535, 'anywher': 95, 'onlin': 1242, 'instruct': 889, 'updat': 1873, 'registr': 1481, 'cera': 274, 'promis': 1414, 'premier': 1374, 'idea': 845, 'insight': 884, 'major': 1077, 'face': 644, 'agenda': 43, 'regist': 1480, 'outsid': 1266, 'done': 500, 'small': 1643, 'item': 918, 'anyway': 94, 'version': 1903, 'mind': 1145, 'condit': 351, 'margin': 1090, 'countri': 398, 'almost': 60, 'paramet': 1281, 'paid': 1276, 'valuat': 1891, 'identifi': 848, 'short': 1621, 'data': 427, 'competit': 340, 'word': 1976, 'fit': 682, 'impli': 860, 'under': 1861, 'swap': 1754, 'calcul': 231, 'past': 1295, 'allow': 59, 'book': 196, 'save': 1558, 'staff': 1686, 'audit': 138, 'ensur': 574, 'anjam': 84, 'prof': 1403, 'duffi': 514, 'met': 1130, 'assess': 121, 'skill': 1640, 'enough': 569, 'winner': 1969, 'demonstr': 457, 'voic': 1921, 'abil': 2, 'live': 1029, 'celest': 267, 'analyst': 76, 'vkaminski': 1919, 'aol': 96, 'alway': 68, 'achiev': 14, 'fact': 647, 'state': 1692, 'though': 1796, 'quantit': 1437, 'behind': 172, 'honor': 821, 'field': 670, 'asian': 117, 'upon': 1876, 'famili': 654, 'wife': 1961, 'pass': 1293, 'law': 991, 'alon': 61, 'without': 1974, 'strong': 1719, 'contribut': 376, 'analyt': 77, 'local': 1035, 'languag': 980, 'econom': 530, 'ca': 229, 'mean': 1116, 'stress': 1716, 'commit': 331, 'qualiti': 1435, 'challeng': 278, 'convert': 381, 'window': 1968, 'ad': 22, 'defin': 447, 'enabl': 560, 'user': 1882, 'strategi': 1713, 'upgrad': 1875, 'databas': 428, 'select': 1580, 'automat': 144, 'infrastructur': 878, 'interfac': 899, 'regular': 1483, 'begin': 170, 'prospect': 1421, 'acquir': 15, 'conduct': 352, 'interview': 903, 'charl': 283, 'carr': 256, 'visual': 1917, 'basic': 164, 'map': 1085, 'found': 707, 'correct': 391, 'even': 604, 'phase': 1327, 'sinc': 1631, 'got': 761, 'bed': 169, 'concept': 348, 'dabhol': 422, 'compon': 345, 'period': 1317, 'bit': 187, 'mayb': 1113, 'medic': 1119, 'catch': 261, 'sandeep': 1554, 'koh': 969, 'anshuman': 89, 'sensit': 1588, 'gone': 758, 'side': 1623, 'expertis': 631, 'mw': 1180, 'mseb': 1172, 'formula': 703, 'memo': 1124, 'newslett': 1204, 'intranet': 904, 'articl': 114, 'buy': 227, 'shankman': 1608, 'agenc': 42, 'lack': 977, 'far': 657, 'strict': 1718, 'rich': 1524, 'mainten': 1076, 'invest': 907, 'tuesday': 1850, 'calendar': 232, 'limit': 1021, 'encourag': 562, 'hotel': 825, 'reserv': 1503, 'reduc': 1474, 'collin': 320, 'baylor': 167, 'po': 1353, 'waco': 1927, 'web': 1940, 'hsb': 835, 'martinj': 1098, 'home': 820, 'lst': 1055, 'panel': 1279, 'profession': 1404, 'ago': 45, 'trend': 1842, 'princip': 1387, 'inc': 864, 'consult': 368, 'street': 1715, 'electron': 548, 'intend': 894, 'entiti': 579, 'address': 25, 'disclosur': 489, 'employe': 557, 'agent': 44, 'distribut': 494, 'action': 19, 'content': 372, 'prohibit': 1411, 'error': 589, 'bad': 154, 'secretari': 1572, 'st': 1685, 'seen': 1579, 'someth': 1656, 'brought': 217, 'attent': 133, 'requir': 1501, 'march': 1088, 'ny': 1224, 'repli': 1497, 'gordon': 760, 'leno': 1006, 'credit': 408, 'ok': 1238, 'post': 1364, 'measur': 1117, 'proprietari': 1420, 'hedg': 798, 'histor': 815, 'balanc': 155, 'low': 1053, 'summer': 1739, 'internship': 902, 'valuabl': 1890, 'hard': 790, 'letter': 1011, 'experi': 628, 'saturday': 1557, 'mb': 1114, 'certain': 275, 'tech': 1773, 'drop': 512, 'laptop': 981, 'andrew': 81, 'access': 8, 'drive': 511, 'directori': 487, 'line': 1023, 'pend': 1308, 'type': 1854, 'modifi': 1154, 'easier': 523, 'whatev': 1954, 'prioriti': 1391, 'normal': 1213, 'histori': 816, 'five': 683, 'track': 1828, 'heather': 797, 'brown': 218, 'elizabeth': 552, 'conflict': 357, 'art': 113, 'receipt': 1466, 'held': 799, 'york': 1997, 'citi': 302, 'continent': 373, 'breakfast': 205, 'hesit': 805, 'suit': 1735, 'ted': 1777, 'murphi': 1177, 'carson': 258, 'serv': 1594, 'rapid': 1450, 'agreement': 47, 'public': 1427, 'ship': 1617, 'weekend': 1945, 'known': 967, 'park': 1285, 'output': 1265, 'cindi': 301, 'dr': 507, 'sit': 1635, 'decid': 442, 'page': 1275, 'difficult': 481, 'chapter': 281, 'altern': 66, 'bank': 158, 'studi': 1722, 'resum': 1515, 'background': 153, 'transfer': 1835, 'resolv': 1505, 'academ': 6, 'front': 717, 'career': 252, 'ultim': 1857, 'hand': 786, 'tabl': 1760, 'creativ': 407, 'solv': 1654, 'tell': 1780, 'vkamin': 1918, 'mr': 1169, 'satisfact': 1556, 'queri': 1439, 'pc': 1305, 'memori': 1125, 'clean': 307, 'iii': 853, 'rest': 1510, 'touch': 1824, 'magazin': 1065, 'copyright': 386, 'legal': 1003, 'specialist': 1671, 'entitl': 580, 'lawyer': 992, 'pr': 1367, 'avoid': 148, 'sometim': 1657, 'appropri': 105, 'octob': 1232, 'educ': 537, 'smtp': 1645, 'institut': 888, 'kenneth': 955, 'bond': 194, 'loan': 1034, 'otc': 1260, 'default': 446, 'practic': 1368, 'section': 1573, 'code': 315, 'relev': 1488, 'colleg': 319, 'degre': 449, 'fee': 666, 'notif': 1218, 'accept': 7, 'polici': 1355, 'descript': 467, 'delay': 450, 'took': 1819, 'margaret': 1089, 'daffin': 423, 'collect': 318, 'mathemat': 1104, 'simul': 1630, 'method': 1132, 'afford': 39, 'profit': 1408, 'restrict': 1512, 'numer': 1223, 'valid': 1888, 'specifi': 1673, 'personnel': 1321, 'govern': 762, 'health': 794, 'scienc': 1563, 'tentat': 1782, 'leav': 1000, 'arriv': 112, 'mon': 1157, 'night': 1208, 'fri': 714, 'wed': 1942, 'flight': 688, 'feb': 663, 'jean': 927, 'instal': 885, 'le': 994, 'delta': 455, 'methodolog': 1133, 'comfort': 326, 'finish': 679, 'littl': 1028, 'verifi': 1901, 'easi': 522, 'add': 23, 'shop': 1620, 'maintain': 1075, 'upcom': 1872, 'ron': 1534, 'chicago': 290, 'pjm': 1342, 'georgia': 744, 'retail': 1516, 'pennsylvania': 1309, 'hour': 828, 'describ': 466, 'choos': 296, 'among': 73, 'display': 493, 'briefli': 211, 'predict': 1371, 'avenu': 146, 'congratul': 359, 'deserv': 468, 'cheer': 289, 'store': 1710, 'answer': 90, 'stand': 1688, 'absolut': 4, 'fail': 650, 'discov': 491, 'must': 1178, 'fwd': 727, 'path': 1297, 'mx': 1181, 'air': 51, 'esmtp': 591, 'id': 844, 'est': 594, 'experienc': 629, 'caus': 263, 'inquiri': 882, 'care': 251, 'life': 1018, 'membership': 1123, 'wincenti': 1967, 'switch': 1756, 'prompt': 1416, 'excess': 616, 'mailer': 1070, 'spend': 1675, 'moment': 1156, 'ignor': 851, 'text': 1787, 'shalesh': 1605, 'ganjoo': 733, 'accomplish': 9, 'goe': 756, 'lee': 1001, 'carol': 255, 'station': 1694, 'extens': 639, 'pack': 1273, 'although': 67, 'folk': 694, 'assign': 123, 'perman': 1318, 'money': 1159, 'coupl': 399, 'young': 1998, 'ami': 71, 'leppard': 1007, 'learn': 998, 'pretti': 1382, 'self': 1581, 'joint': 937, 'dale': 425, 'surbey': 1749, 'barbara': 160, 'surpris': 1751, 'laura': 990, 'extra': 641, 'lewi': 1013, 'nice': 1206, 'dinner': 484, 'club': 312, 'beth': 180, 'realiz': 1463, 'adjust': 26, 'philipp': 1330, 'super': 1743, 'michell': 1137, 'sir': 1634, 'hire': 814, 'henwood': 803, 'licens': 1017, 'karla': 950, 'renew': 1495, 'softwar': 1648, 'mailto': 1072, 'june': 947, 'faculti': 649, 'forecast': 697, 'exposur': 635, 'colleagu': 317, 'third': 1794, 'profil': 1407, 'preliminari': 1373, 'ideal': 846, 'role': 1531, 'cv': 421, 'bradford': 202, 'pre': 1370, 'captur': 248, 'separ': 1590, 'oil': 1237, 'crude': 413, 'fall': 653, 'sum': 1737, 'bus': 224, 'jose': 939, 'visa': 1913, 'attorney': 134, 'submiss': 1726, 'septemb': 1591, 'outstand': 1267, 'desktop': 472, 'seek': 1577, 'marketplac': 1094, 'ie': 849, 'load': 1033, 'stuff': 1724, 'other': 1261, 'bankruptci': 159, 'launch': 989, 'intent': 895, 'advic': 32, 'bryan': 219, 'outlin': 1263, 'enrol': 570, 'lsu': 1056, 'solicit': 1652, 'garven': 737, 'slide': 1641, 'la': 974, 'worldwid': 1980, 'presenc': 1377, 'wholesal': 1958, 'salli': 1549, 'causey': 264, 'chief': 291, 'assur': 128, 'facilit': 646, 'coordin': 383, 'collabor': 316, 'australia': 141, 'consolid': 365, 'cash': 260, 'spent': 1676, 'own': 1270, 'marshal': 1096, 'sole': 1651, 'introduc': 905, 'hr': 833, 'travel': 1839, 'sunday': 1741, 'desir': 470, 'christi': 298, 'recruit': 1473, 'winter': 1971, 'rotat': 1537, 'explor': 634, 'suffici': 1733, 'communiti': 336, 'carri': 257, 'behalf': 171, 'prefer': 1372, 'deleg': 451, 'audienc': 137, 'welcom': 1947, 'advertis': 31, 'competitor': 341, 'perhap': 1316, 'lower': 1054, 'revenu': 1519, 'partner': 1291, 'perspect': 1322, 'fair': 652, 'neither': 1196, 'serious': 1593, 'chart': 285, 'griebl': 773, 'input': 881, 'attempt': 130, 'budget': 220, 'mid': 1139, 'guid': 780, 'enrononlin': 572, 'louis': 1051, 'greet': 770, 'boston': 198, 'krapel': 970, 'donna': 501, 'guest': 779, 'exclus': 619, 'extend': 638, 'ps': 1425, 'cancel': 240, 'delet': 452, 'mit': 1149, 'bandwidth': 157, 'pick': 1336, 'correspond': 393, 'pressur': 1381, 'pdf': 1306, 'incred': 869, 'fund': 723, 'incom': 866, 'tax': 1770, 'feder': 665, 'august': 139, 'wade': 1928, 'de': 435, 'wti': 1987, 'brent': 207, 'fundament': 724, 'sold': 1650, 'resid': 1504, 'auction': 136, 'second': 1570, 'instead': 887, 'tradit': 1831, 'safe': 1544, 'economi': 531, 'simpli': 1629, 'scenario': 1560, 'rule': 1541, 'lose': 1047, 'gave': 740, 'friend': 716, 'nick': 1207, 'bambo': 156, 'broadband': 213, 'situat': 1637, 'fulli': 721, 'sponsor': 1679, 'reaction': 1458, 'insid': 883, 'studio': 1723, 'negat': 1193, 'watch': 1935, 'block': 189, 'chat': 286, 'benefit': 176, 'palmer': 1277, 'declin': 444, 'oct': 1231, 'austin': 140, 'utexa': 1885, 'dpc': 506, 'msn': 1173, 'whole': 1957, 'appoint': 102, 'henc': 802, 'till': 1807, 'treat': 1840, 'confus': 358, 'none': 1210, 'float': 689, 'walk': 1930, 'definit': 448, 'thousand': 1798, 'invoic': 911, 'complex': 343, 'multipl': 1176, 'premium': 1375, 'ceo': 273, 'transit': 1836, 'shelli': 1614, 'via': 1904, 'fw': 726, 'luncheon': 1060, 'maharashtra': 1067, 'restaur': 1511, 'chonawe': 295, 'supatgiat': 1742, 'accuraci': 13, 'assumpt': 127, 'factor': 648, 'compar': 338, 'loss': 1048, 'counterparti': 397, 'doctor': 496, 'download': 505, 'potenti': 1365, 'matthew': 1108, 'phd': 1328, 'act': 18, 'tree': 1841, 'tue': 1849, 'foreign': 698, 'entir': 578, 'privat': 1393, 'social': 1646, 'spring': 1683, 'mm': 1151, 'debt': 439, 'guarante': 777, 'equiti': 587, 'logist': 1039, 'ahead': 48, 'fli': 687, 'airport': 52, 'traffic': 1832, 'vision': 1914, 'attende': 132, 'nation': 1185, 'na': 1182, 'sie': 1624, 'pa': 1272, 'sampl': 1552, 'ehud': 543, 'ronn': 1535, 'multi': 1175, 'rac': 1445, 'scope': 1564, 'task': 1769, 'press': 1380, 'progress': 1410, 'hit': 817, 'cooper': 382, 'appar': 98, 'usual': 1883, 'proven': 1423, 'elena': 550, 'mailman': 1071, 'mime': 1144, 'charset': 284, 'onto': 1243, 'turn': 1851, 'wall': 1931, 'grid': 772, 'affili': 38, 'polit': 1356, 'earn': 521, 'hickerson': 808, 'salari': 1547, 'thus': 1803, 'pursu': 1431, 'bottom': 199, 'vendor': 1899, 'termin': 1784, 'denni': 459, 'seyfri': 1602, 'matrix': 1105, 'column': 322, 'element': 549, 'green': 769, 'regulatori': 1484, 'expert': 630, 'mutual': 1179, 'strickland': 1717, 'board': 191, 'cl': 303, 'impress': 862, 'man': 1080, 'love': 1052, 'commerc': 328, 'manual': 1083, 'duti': 516, 'remot': 1493, 'hotmail': 826, 'yahoo': 1990, 'game': 730, 'advisor': 34, 'journal': 941, 'subscript': 1729, 'billion': 186, 'subsidiari': 1730, 'ventur': 1900, 'sap': 1555, 'extract': 642, 'format': 701, 'split': 1677, 'singl': 1633, 'subscrib': 1728, 'ever': 606, 'light': 1019, 'cheap': 287, 'sector': 1574, 'hall': 784, 'cap': 244, 'complianc': 344, 'disclos': 488, 'stock': 1707, 'canada': 239, 'ltd': 1057, 'engag': 565, 'instrument': 890, 'liabil': 1015, 'ii': 852, 'affair': 36, 'kristin': 973, 'land': 979, 'gain': 729, 'fortun': 704, 'win': 1966, 'combin': 324, 'currenc': 416, 'garp': 736, 'ab': 1, 'primarili': 1386, 'paul': 1299, 'familiar': 655, 'elimin': 551, 'keynot': 958, 'aim': 50, 'attract': 135, 'player': 1348, 'sherriff': 1616, 'advisori': 35, 'eol': 584, 'style': 1725, 'framework': 709, 'revers': 1520, 'jump': 945, 'examin': 612, 'understood': 1863, 'varieti': 1895, 'investig': 908, 'yield': 1996, 'gamma': 731, 'interact': 896, 'tom': 1816, 'harvard': 792, 'consum': 369, 'search': 1567, 'exact': 611, 'uniqu': 1865, 'easili': 524, 'economist': 532, 'teach': 1771, 'al': 53, 'password': 1294, 'hill': 813, 'safeti': 1545, 'sevil': 1600, 'yaman': 1991, 'regul': 1482, 'workshop': 1978, 'log': 1037, 'news': 1203, 'pari': 1283, 'li': 1014, 'aa': 0, 'dawn': 433, 'rsvp': 1540, 'count': 396, 'lanc': 978, 'cunningham': 415, 'giusepp': 748, 'dan': 426, 'proper': 1417, 'vs': 1926, 'vol': 1922, 'nelson': 1197, 'novemb': 1221, 'nov': 1220, 'ticket': 1804, 'jeffrey': 929, 'allianc': 57, 'ste': 1699, 'oblig': 1227, 'comprehens': 346, 'campus': 238, 'introduct': 906, 'reliabl': 1489, 'commiss': 330, 'iso': 914, 'water': 1936, 'investor': 909, 'maker': 1079, 'virtual': 1912, 'legisl': 1004, 'forc': 696, 'protect': 1422, 'categori': 262, 'ahmad': 49, 'media': 1118, 'master': 1100, 'liquid': 1026, 'entri': 581, 'mba': 1115, 'kirste': 964, 'hewitt': 806, 'microsoft': 1138, 'truli': 1847, 'sheridan': 1615, 'road': 1529, 'suitabl': 1736, 'peter': 1323, 'port': 1359, 'tm': 1812, 'rs': 1539, 'court': 402, 'fresh': 713, 'secret': 1571, 'oppos': 1248, 'crisi': 410, 'unlimit': 1870, 'half': 783, 'mortgag': 1166, 'campaign': 237, 'instant': 886, 'reader': 1460, 'statement': 1693, 'opt': 1249, 'caida': 230, 'metric': 1134, 'mar': 1086, 'remov': 1494, 'survey': 1752, 'core': 387, 'bulk': 222, 'lacima': 976, 'centr': 271, 'logo': 1040, 'lay': 993, 'outlook': 1264, 'forum': 705, 'son': 1658, 'ten': 1781, 'ew': 610, 'visitor': 1916, 'quant': 1436, 'server': 1595, 'constitut': 366, 'weight': 1946, 'piec': 1338, 'fill': 673, 'bridg': 209, 'platform': 1346, 'cs': 414, 'coupon': 400, 'hot': 824, 'java': 925, 'portion': 1361, 'cambridg': 235, 'roll': 1533, 'ut': 1884, 'math': 1103, 'symposium': 1758, 'winston': 1970, 'huge': 840, 'tour': 1825, 'age': 41, 'rais': 1446, 'largest': 983, 'biggest': 184, 'swing': 1755, 'sender': 1585, 'pop': 1358, 'mix': 1150, 'brand': 203, 'jennif': 930, 'howard': 831, 'supplier': 1746, 'librari': 1016, 'unsubscrib': 1871, 'sf': 1604, 'alert': 54, 'linux': 1025, 'men': 1126, 'patent': 1296, 'carnegi': 254, 'mellon': 1121, 'unknown': 1868, 'fl': 685, 'failur': 651, 'confid': 354, 'dramat': 509, 'pam': 1278, 'entertain': 577, 'mack': 1062, 'convent': 379, 'claim': 304, 'substanti': 1731, 'asp': 119, 'wrong': 1985, 'corel': 388, 'graphic': 766, 'migrat': 1141, 'sec': 1569, 'es': 590, 'die': 478, 'un': 1858, 'trial': 1844, 'ne': 1189, 'exotica': 624, 'llc': 1030, 'patrick': 1298, 'en': 558, 'cd': 266, 'los': 1046, 'titman': 1811, 'movi': 1168, 'owner': 1271, 'pierr': 1339, 'cantekin': 243, 'bodi': 193, 'deng': 458, 'molli': 1155, 'brian': 208, 'pro': 1395, 'boost': 197, 'abstract': 5, 'login': 1038, 'jack': 919, 'iri': 913, 'pariba': 1284, 'bnp': 190, 'eric': 588, 'deposit': 462, 'marketpoint': 1095, 'nesbitt': 1198, 'vehicl': 1898, 'broker': 216, 'philadelphia': 1329, 'wharton': 1953, 'piazz': 1335, 'upenn': 1874, 'diebold': 479, 'keith': 953, 'frequenc': 712, 'eu': 600, 'burn': 223, 'lender': 1005, 'mscf': 1171, 'walton': 1932, 'adob': 28, 'berkeley': 178, 'chilkina': 292, 'pavel': 1301, 'tani': 1766, 'herein': 804, 'mage': 1066, 'cmu': 313, 'pep': 1311, 'autom': 143, 'uncertainti': 1860, 'gold': 757, 'jun': 946, 'neil': 1195, 'hundr': 842, 'christian': 299, 'jcc': 926, 'gwyn': 782, 'koepk': 968, 'domain': 499, 'percent': 1313, 'mg': 1135, 'imagin': 856, 'mailbox': 1069, 'naveen': 1187, 'rabi': 1444, 'isy': 917, 'lloyd': 1031, 'sharad': 1609, 'anita': 83, 'dupont': 515, 'grade': 763, 'jul': 943, 'sharehold': 1611, 'norma': 1212, 'villarr': 1909, 'ashley': 116, 'ieor': 850, 'oren': 1253, 'shmuel': 1619, 'estat': 596, 'ident': 847, 'gandi': 732, 'egm': 542, 'hamilton': 785, 'tiger': 1806, 'fap': 656, 'judg': 942, 'jaesoo': 920, 'eim': 544, 'jinbaek': 932, 'pserc': 1426, 'kin': 961, 'alp': 63, 'narg': 1184, 'fma': 692, 'privaci': 1392, 'enronxg': 573, 'rakesh': 1447, 'petrona': 1324, 'broadcast': 214, 'oem': 1233, 'ibuyit': 843, 'godbol': 755, 'macromedia': 1063, 'breath': 206, 'ilug': 854, 'spam': 1667, 'php': 1333, 'sex': 1601, 'viagra': 1905, 'wi': 1959, 'xp': 1989, 'paypal': 1304, 'dvd': 517, 'ebay': 528, 'dose': 502, 'photoshop': 1332, 'wiil': 1962, 'vnbl': 1920, 'professionai': 1405, 'oniin': 1241, 'stationeri': 1695, 'andmanyoth': 79, 'wili': 1963, 'projecthoneypot': 1413, 'qmail': 1433, 'rolet': 1532, 'mailwisconsin': 1073, 'squirrelmail': 1684}\n"
     ]
    }
   ],
   "source": [
    "# tokenize the emails\n",
    "tokens, vocab = email_tokenization(email_process, features=2000)\n",
    "print(vocab)"
   ]
  },
  {
   "cell_type": "code",
   "execution_count": 18,
   "metadata": {},
   "outputs": [
    {
     "name": "stdout",
     "output_type": "stream",
     "text": [
      "(5854, 2000)\n"
     ]
    }
   ],
   "source": [
    "# Check shape of the tokens\n",
    "print(tokens.shape)"
   ]
  },
  {
   "cell_type": "code",
   "execution_count": 19,
   "metadata": {},
   "outputs": [
    {
     "data": {
      "text/html": [
       "<div>\n",
       "<style scoped>\n",
       "    .dataframe tbody tr th:only-of-type {\n",
       "        vertical-align: middle;\n",
       "    }\n",
       "\n",
       "    .dataframe tbody tr th {\n",
       "        vertical-align: top;\n",
       "    }\n",
       "\n",
       "    .dataframe thead th {\n",
       "        text-align: right;\n",
       "    }\n",
       "</style>\n",
       "<table border=\"1\" class=\"dataframe\">\n",
       "  <thead>\n",
       "    <tr style=\"text-align: right;\">\n",
       "      <th></th>\n",
       "      <th>aa</th>\n",
       "      <th>ab</th>\n",
       "      <th>abil</th>\n",
       "      <th>abl</th>\n",
       "      <th>absolut</th>\n",
       "      <th>abstract</th>\n",
       "      <th>academ</th>\n",
       "      <th>accept</th>\n",
       "      <th>access</th>\n",
       "      <th>accomplish</th>\n",
       "      <th>...</th>\n",
       "      <th>yahoo</th>\n",
       "      <th>yaman</th>\n",
       "      <th>year</th>\n",
       "      <th>yes</th>\n",
       "      <th>yesterday</th>\n",
       "      <th>yet</th>\n",
       "      <th>yield</th>\n",
       "      <th>york</th>\n",
       "      <th>young</th>\n",
       "      <th>zimin</th>\n",
       "    </tr>\n",
       "  </thead>\n",
       "  <tbody>\n",
       "    <tr>\n",
       "      <th>0</th>\n",
       "      <td>0</td>\n",
       "      <td>0</td>\n",
       "      <td>0</td>\n",
       "      <td>0</td>\n",
       "      <td>0</td>\n",
       "      <td>0</td>\n",
       "      <td>0</td>\n",
       "      <td>0</td>\n",
       "      <td>0</td>\n",
       "      <td>0</td>\n",
       "      <td>...</td>\n",
       "      <td>0</td>\n",
       "      <td>0</td>\n",
       "      <td>0</td>\n",
       "      <td>0</td>\n",
       "      <td>0</td>\n",
       "      <td>0</td>\n",
       "      <td>0</td>\n",
       "      <td>0</td>\n",
       "      <td>0</td>\n",
       "      <td>0</td>\n",
       "    </tr>\n",
       "    <tr>\n",
       "      <th>1</th>\n",
       "      <td>0</td>\n",
       "      <td>0</td>\n",
       "      <td>0</td>\n",
       "      <td>0</td>\n",
       "      <td>0</td>\n",
       "      <td>0</td>\n",
       "      <td>0</td>\n",
       "      <td>0</td>\n",
       "      <td>0</td>\n",
       "      <td>0</td>\n",
       "      <td>...</td>\n",
       "      <td>0</td>\n",
       "      <td>0</td>\n",
       "      <td>0</td>\n",
       "      <td>0</td>\n",
       "      <td>0</td>\n",
       "      <td>0</td>\n",
       "      <td>0</td>\n",
       "      <td>0</td>\n",
       "      <td>0</td>\n",
       "      <td>0</td>\n",
       "    </tr>\n",
       "    <tr>\n",
       "      <th>2</th>\n",
       "      <td>0</td>\n",
       "      <td>0</td>\n",
       "      <td>0</td>\n",
       "      <td>0</td>\n",
       "      <td>0</td>\n",
       "      <td>0</td>\n",
       "      <td>0</td>\n",
       "      <td>0</td>\n",
       "      <td>0</td>\n",
       "      <td>0</td>\n",
       "      <td>...</td>\n",
       "      <td>0</td>\n",
       "      <td>0</td>\n",
       "      <td>0</td>\n",
       "      <td>0</td>\n",
       "      <td>0</td>\n",
       "      <td>0</td>\n",
       "      <td>0</td>\n",
       "      <td>0</td>\n",
       "      <td>0</td>\n",
       "      <td>1</td>\n",
       "    </tr>\n",
       "    <tr>\n",
       "      <th>3</th>\n",
       "      <td>0</td>\n",
       "      <td>0</td>\n",
       "      <td>0</td>\n",
       "      <td>0</td>\n",
       "      <td>0</td>\n",
       "      <td>0</td>\n",
       "      <td>0</td>\n",
       "      <td>0</td>\n",
       "      <td>0</td>\n",
       "      <td>0</td>\n",
       "      <td>...</td>\n",
       "      <td>0</td>\n",
       "      <td>0</td>\n",
       "      <td>0</td>\n",
       "      <td>0</td>\n",
       "      <td>0</td>\n",
       "      <td>0</td>\n",
       "      <td>0</td>\n",
       "      <td>0</td>\n",
       "      <td>0</td>\n",
       "      <td>0</td>\n",
       "    </tr>\n",
       "    <tr>\n",
       "      <th>4</th>\n",
       "      <td>0</td>\n",
       "      <td>0</td>\n",
       "      <td>0</td>\n",
       "      <td>0</td>\n",
       "      <td>0</td>\n",
       "      <td>0</td>\n",
       "      <td>0</td>\n",
       "      <td>0</td>\n",
       "      <td>0</td>\n",
       "      <td>0</td>\n",
       "      <td>...</td>\n",
       "      <td>0</td>\n",
       "      <td>0</td>\n",
       "      <td>0</td>\n",
       "      <td>0</td>\n",
       "      <td>0</td>\n",
       "      <td>0</td>\n",
       "      <td>0</td>\n",
       "      <td>0</td>\n",
       "      <td>0</td>\n",
       "      <td>0</td>\n",
       "    </tr>\n",
       "  </tbody>\n",
       "</table>\n",
       "<p>5 rows × 2000 columns</p>\n",
       "</div>"
      ],
      "text/plain": [
       "   aa  ab  abil  abl  absolut  abstract  academ  accept  access  accomplish  \\\n",
       "0   0   0     0    0        0         0       0       0       0           0   \n",
       "1   0   0     0    0        0         0       0       0       0           0   \n",
       "2   0   0     0    0        0         0       0       0       0           0   \n",
       "3   0   0     0    0        0         0       0       0       0           0   \n",
       "4   0   0     0    0        0         0       0       0       0           0   \n",
       "\n",
       "   ...  yahoo  yaman  year  yes  yesterday  yet  yield  york  young  zimin  \n",
       "0  ...      0      0     0    0          0    0      0     0      0      0  \n",
       "1  ...      0      0     0    0          0    0      0     0      0      0  \n",
       "2  ...      0      0     0    0          0    0      0     0      0      1  \n",
       "3  ...      0      0     0    0          0    0      0     0      0      0  \n",
       "4  ...      0      0     0    0          0    0      0     0      0      0  \n",
       "\n",
       "[5 rows x 2000 columns]"
      ]
     },
     "execution_count": 19,
     "metadata": {},
     "output_type": "execute_result"
    }
   ],
   "source": [
    "tokens.head()"
   ]
  },
  {
   "cell_type": "code",
   "execution_count": 20,
   "metadata": {},
   "outputs": [
    {
     "data": {
      "text/html": [
       "<div>\n",
       "<style scoped>\n",
       "    .dataframe tbody tr th:only-of-type {\n",
       "        vertical-align: middle;\n",
       "    }\n",
       "\n",
       "    .dataframe tbody tr th {\n",
       "        vertical-align: top;\n",
       "    }\n",
       "\n",
       "    .dataframe thead th {\n",
       "        text-align: right;\n",
       "    }\n",
       "</style>\n",
       "<table border=\"1\" class=\"dataframe\">\n",
       "  <thead>\n",
       "    <tr style=\"text-align: right;\">\n",
       "      <th></th>\n",
       "      <th>aa</th>\n",
       "      <th>ab</th>\n",
       "      <th>abil</th>\n",
       "      <th>abl</th>\n",
       "      <th>absolut</th>\n",
       "      <th>abstract</th>\n",
       "      <th>academ</th>\n",
       "      <th>accept</th>\n",
       "      <th>access</th>\n",
       "      <th>accomplish</th>\n",
       "      <th>...</th>\n",
       "      <th>yahoo</th>\n",
       "      <th>yaman</th>\n",
       "      <th>year</th>\n",
       "      <th>yes</th>\n",
       "      <th>yesterday</th>\n",
       "      <th>yet</th>\n",
       "      <th>yield</th>\n",
       "      <th>york</th>\n",
       "      <th>young</th>\n",
       "      <th>zimin</th>\n",
       "    </tr>\n",
       "  </thead>\n",
       "  <tbody>\n",
       "    <tr>\n",
       "      <th>50</th>\n",
       "      <td>0</td>\n",
       "      <td>0</td>\n",
       "      <td>0</td>\n",
       "      <td>1</td>\n",
       "      <td>0</td>\n",
       "      <td>0</td>\n",
       "      <td>0</td>\n",
       "      <td>0</td>\n",
       "      <td>0</td>\n",
       "      <td>0</td>\n",
       "      <td>...</td>\n",
       "      <td>0</td>\n",
       "      <td>0</td>\n",
       "      <td>3</td>\n",
       "      <td>0</td>\n",
       "      <td>0</td>\n",
       "      <td>0</td>\n",
       "      <td>0</td>\n",
       "      <td>0</td>\n",
       "      <td>0</td>\n",
       "      <td>0</td>\n",
       "    </tr>\n",
       "  </tbody>\n",
       "</table>\n",
       "<p>1 rows × 2000 columns</p>\n",
       "</div>"
      ],
      "text/plain": [
       "    aa  ab  abil  abl  absolut  abstract  academ  accept  access  accomplish  \\\n",
       "50   0   0     0    1        0         0       0       0       0           0   \n",
       "\n",
       "    ...  yahoo  yaman  year  yes  yesterday  yet  yield  york  young  zimin  \n",
       "50  ...      0      0     3    0          0    0      0     0      0      0  \n",
       "\n",
       "[1 rows x 2000 columns]"
      ]
     },
     "execution_count": 20,
     "metadata": {},
     "output_type": "execute_result"
    }
   ],
   "source": [
    "# Plot the most common words\n",
    "tokens.iloc[[n_mail]]"
   ]
  },
  {
   "cell_type": "markdown",
   "metadata": {},
   "source": [
    "# Print token email\n"
   ]
  },
  {
   "cell_type": "code",
   "execution_count": 21,
   "metadata": {},
   "outputs": [
    {
     "name": "stdout",
     "output_type": "stream",
     "text": [
      "86 1222 789 1202 1992 1215 86 429 1992 1786 675 1992 1120 520 108 1553 1691 1409 715 1349 1432 429 232 1584 1481 699 115 1666 353 1021 65 562 1480 825 857 3 1503 1021 1222 1536 1474 353 1451 822 1576 1786 935 495 935 1097 256 320 276 675 675 460 167 1867 1353 200 1222 1927 1853 1222 1222 1222 1222 1235 1222 1222 1222 660 1097 167 536 1940 838 835 167 536 837 1098 820 837 "
     ]
    }
   ],
   "source": [
    "for key in text_list[n_mail]:\n",
    "  if vocab.get(key):\n",
    "    print(vocab[key], end=\" \")"
   ]
  },
  {
   "cell_type": "code",
   "execution_count": 22,
   "metadata": {},
   "outputs": [
    {
     "name": "stdout",
     "output_type": "stream",
     "text": [
      "Count keys in email: 91\n",
      "\n",
      "Email list keys:\n",
      "\n",
      "86 1222 789 1202 1992 1215 86 429 1992 1786 675 1992 1120 520 108 1553 1691 1409 715 1349 \n",
      "1432 429 232 1584 1481 699 115 1666 353 1021 65 562 1480 825 857 3 1503 1021 1222 1536 \n",
      "1474 353 1451 822 1576 1786 935 495 935 1097 256 320 276 675 675 460 167 1867 1353 200 \n",
      "1222 1927 1853 1222 1222 1222 1222 1235 1222 1222 1222 660 1097 167 536 1940 838 835 167 536 \n",
      "837 1098 820 837 "
     ]
    }
   ],
   "source": [
    "#Print token email 20 words per row and count number words\n",
    "print(\"Count keys in email: {}\".format(len(text_list[n_mail])))\n",
    "print(\"\\nEmail list keys:\\n\")\n",
    "#Print list words in email\n",
    "count = 0\n",
    "for key in text_list[n_mail]:\n",
    "  if vocab.get(key):\n",
    "    print(vocab[key],end=\" \")\n",
    "    count += 1\n",
    "  if count == 20:\n",
    "    print(\"\")\n",
    "    count = 0"
   ]
  },
  {
   "cell_type": "markdown",
   "metadata": {},
   "source": [
    "# Export process messages and labels"
   ]
  },
  {
   "cell_type": "code",
   "execution_count": 23,
   "metadata": {},
   "outputs": [
    {
     "name": "stdout",
     "output_type": "stream",
     "text": [
      "['ham' 'spam']\n"
     ]
    }
   ],
   "source": [
    "lb = LabelBinarizer()\n",
    "lb.fit(df[\"label\"])\n",
    "print(lb.classes_)\n",
    "y = lb.transform(df[\"label\"])"
   ]
  },
  {
   "cell_type": "code",
   "execution_count": 24,
   "metadata": {},
   "outputs": [
    {
     "name": "stdout",
     "output_type": "stream",
     "text": [
      "Spam/Total\n",
      "1496/5854 \n",
      "Spam proportion = 0.26\n"
     ]
    },
    {
     "name": "stderr",
     "output_type": "stream",
     "text": [
      "C:\\Users\\User\\AppData\\Local\\Temp\\ipykernel_12296\\4228708387.py:3: DeprecationWarning: Conversion of an array with ndim > 0 to a scalar is deprecated, and will error in future. Ensure you extract a single element from your array before performing this operation. (Deprecated NumPy 1.25.)\n",
      "  print(\"{}/{} \".format(int(sum(y)),len(y)))\n",
      "C:\\Users\\User\\AppData\\Local\\Temp\\ipykernel_12296\\4228708387.py:4: DeprecationWarning: Conversion of an array with ndim > 0 to a scalar is deprecated, and will error in future. Ensure you extract a single element from your array before performing this operation. (Deprecated NumPy 1.25.)\n",
      "  print(\"Spam proportion = {:0.2f}\".format(int(sum(y))/len(y)))\n"
     ]
    }
   ],
   "source": [
    "# Find the proportion of spam emails in the dataset\n",
    "print(\"Spam/Total\")\n",
    "print(\"{}/{} \".format(int(sum(y)),len(y)))\n",
    "print(\"Spam proportion = {:0.2f}\".format(int(sum(y))/len(y)))"
   ]
  },
  {
   "cell_type": "code",
   "execution_count": 25,
   "metadata": {},
   "outputs": [
    {
     "data": {
      "text/html": [
       "<div>\n",
       "<style scoped>\n",
       "    .dataframe tbody tr th:only-of-type {\n",
       "        vertical-align: middle;\n",
       "    }\n",
       "\n",
       "    .dataframe tbody tr th {\n",
       "        vertical-align: top;\n",
       "    }\n",
       "\n",
       "    .dataframe thead th {\n",
       "        text-align: right;\n",
       "    }\n",
       "</style>\n",
       "<table border=\"1\" class=\"dataframe\">\n",
       "  <thead>\n",
       "    <tr style=\"text-align: right;\">\n",
       "      <th></th>\n",
       "      <th>aa</th>\n",
       "      <th>ab</th>\n",
       "      <th>abil</th>\n",
       "      <th>abl</th>\n",
       "      <th>absolut</th>\n",
       "      <th>abstract</th>\n",
       "      <th>academ</th>\n",
       "      <th>accept</th>\n",
       "      <th>access</th>\n",
       "      <th>accomplish</th>\n",
       "      <th>...</th>\n",
       "      <th>yaman</th>\n",
       "      <th>year</th>\n",
       "      <th>yes</th>\n",
       "      <th>yesterday</th>\n",
       "      <th>yet</th>\n",
       "      <th>yield</th>\n",
       "      <th>york</th>\n",
       "      <th>young</th>\n",
       "      <th>zimin</th>\n",
       "      <th>label</th>\n",
       "    </tr>\n",
       "  </thead>\n",
       "  <tbody>\n",
       "    <tr>\n",
       "      <th>0</th>\n",
       "      <td>0</td>\n",
       "      <td>0</td>\n",
       "      <td>0</td>\n",
       "      <td>0</td>\n",
       "      <td>0</td>\n",
       "      <td>0</td>\n",
       "      <td>0</td>\n",
       "      <td>0</td>\n",
       "      <td>0</td>\n",
       "      <td>0</td>\n",
       "      <td>...</td>\n",
       "      <td>0</td>\n",
       "      <td>0</td>\n",
       "      <td>0</td>\n",
       "      <td>0</td>\n",
       "      <td>0</td>\n",
       "      <td>0</td>\n",
       "      <td>0</td>\n",
       "      <td>0</td>\n",
       "      <td>0</td>\n",
       "      <td>0</td>\n",
       "    </tr>\n",
       "    <tr>\n",
       "      <th>1</th>\n",
       "      <td>0</td>\n",
       "      <td>0</td>\n",
       "      <td>0</td>\n",
       "      <td>0</td>\n",
       "      <td>0</td>\n",
       "      <td>0</td>\n",
       "      <td>0</td>\n",
       "      <td>0</td>\n",
       "      <td>0</td>\n",
       "      <td>0</td>\n",
       "      <td>...</td>\n",
       "      <td>0</td>\n",
       "      <td>0</td>\n",
       "      <td>0</td>\n",
       "      <td>0</td>\n",
       "      <td>0</td>\n",
       "      <td>0</td>\n",
       "      <td>0</td>\n",
       "      <td>0</td>\n",
       "      <td>0</td>\n",
       "      <td>0</td>\n",
       "    </tr>\n",
       "    <tr>\n",
       "      <th>2</th>\n",
       "      <td>0</td>\n",
       "      <td>0</td>\n",
       "      <td>0</td>\n",
       "      <td>0</td>\n",
       "      <td>0</td>\n",
       "      <td>0</td>\n",
       "      <td>0</td>\n",
       "      <td>0</td>\n",
       "      <td>0</td>\n",
       "      <td>0</td>\n",
       "      <td>...</td>\n",
       "      <td>0</td>\n",
       "      <td>0</td>\n",
       "      <td>0</td>\n",
       "      <td>0</td>\n",
       "      <td>0</td>\n",
       "      <td>0</td>\n",
       "      <td>0</td>\n",
       "      <td>0</td>\n",
       "      <td>1</td>\n",
       "      <td>0</td>\n",
       "    </tr>\n",
       "    <tr>\n",
       "      <th>3</th>\n",
       "      <td>0</td>\n",
       "      <td>0</td>\n",
       "      <td>0</td>\n",
       "      <td>0</td>\n",
       "      <td>0</td>\n",
       "      <td>0</td>\n",
       "      <td>0</td>\n",
       "      <td>0</td>\n",
       "      <td>0</td>\n",
       "      <td>0</td>\n",
       "      <td>...</td>\n",
       "      <td>0</td>\n",
       "      <td>0</td>\n",
       "      <td>0</td>\n",
       "      <td>0</td>\n",
       "      <td>0</td>\n",
       "      <td>0</td>\n",
       "      <td>0</td>\n",
       "      <td>0</td>\n",
       "      <td>0</td>\n",
       "      <td>0</td>\n",
       "    </tr>\n",
       "    <tr>\n",
       "      <th>4</th>\n",
       "      <td>0</td>\n",
       "      <td>0</td>\n",
       "      <td>0</td>\n",
       "      <td>0</td>\n",
       "      <td>0</td>\n",
       "      <td>0</td>\n",
       "      <td>0</td>\n",
       "      <td>0</td>\n",
       "      <td>0</td>\n",
       "      <td>0</td>\n",
       "      <td>...</td>\n",
       "      <td>0</td>\n",
       "      <td>0</td>\n",
       "      <td>0</td>\n",
       "      <td>0</td>\n",
       "      <td>0</td>\n",
       "      <td>0</td>\n",
       "      <td>0</td>\n",
       "      <td>0</td>\n",
       "      <td>0</td>\n",
       "      <td>0</td>\n",
       "    </tr>\n",
       "  </tbody>\n",
       "</table>\n",
       "<p>5 rows × 2001 columns</p>\n",
       "</div>"
      ],
      "text/plain": [
       "   aa  ab  abil  abl  absolut  abstract  academ  accept  access  accomplish  \\\n",
       "0   0   0     0    0        0         0       0       0       0           0   \n",
       "1   0   0     0    0        0         0       0       0       0           0   \n",
       "2   0   0     0    0        0         0       0       0       0           0   \n",
       "3   0   0     0    0        0         0       0       0       0           0   \n",
       "4   0   0     0    0        0         0       0       0       0           0   \n",
       "\n",
       "   ...  yaman  year  yes  yesterday  yet  yield  york  young  zimin  label  \n",
       "0  ...      0     0    0          0    0      0     0      0      0      0  \n",
       "1  ...      0     0    0          0    0      0     0      0      0      0  \n",
       "2  ...      0     0    0          0    0      0     0      0      1      0  \n",
       "3  ...      0     0    0          0    0      0     0      0      0      0  \n",
       "4  ...      0     0    0          0    0      0     0      0      0      0  \n",
       "\n",
       "[5 rows x 2001 columns]"
      ]
     },
     "execution_count": 25,
     "metadata": {},
     "output_type": "execute_result"
    }
   ],
   "source": [
    "# Export the data\n",
    "export_data = tokens\n",
    "export_data[\"label\"] = y\n",
    "export_data.head()"
   ]
  },
  {
   "cell_type": "code",
   "execution_count": 26,
   "metadata": {},
   "outputs": [],
   "source": [
    "# Save the data in a csv file\n",
    "export_data.to_csv(\"email_tokens.csv\", index=False)"
   ]
  },
  {
   "cell_type": "markdown",
   "metadata": {},
   "source": [
    "# Training the model"
   ]
  },
  {
   "cell_type": "code",
   "execution_count": 27,
   "metadata": {},
   "outputs": [],
   "source": [
    "df = pd.read_csv(\"email_tokens.csv\")    "
   ]
  },
  {
   "cell_type": "code",
   "execution_count": 28,
   "metadata": {},
   "outputs": [
    {
     "data": {
      "text/html": [
       "<div>\n",
       "<style scoped>\n",
       "    .dataframe tbody tr th:only-of-type {\n",
       "        vertical-align: middle;\n",
       "    }\n",
       "\n",
       "    .dataframe tbody tr th {\n",
       "        vertical-align: top;\n",
       "    }\n",
       "\n",
       "    .dataframe thead th {\n",
       "        text-align: right;\n",
       "    }\n",
       "</style>\n",
       "<table border=\"1\" class=\"dataframe\">\n",
       "  <thead>\n",
       "    <tr style=\"text-align: right;\">\n",
       "      <th></th>\n",
       "      <th>aa</th>\n",
       "      <th>ab</th>\n",
       "      <th>abil</th>\n",
       "      <th>abl</th>\n",
       "      <th>absolut</th>\n",
       "      <th>abstract</th>\n",
       "      <th>academ</th>\n",
       "      <th>accept</th>\n",
       "      <th>access</th>\n",
       "      <th>accomplish</th>\n",
       "      <th>...</th>\n",
       "      <th>yaman</th>\n",
       "      <th>year</th>\n",
       "      <th>yes</th>\n",
       "      <th>yesterday</th>\n",
       "      <th>yet</th>\n",
       "      <th>yield</th>\n",
       "      <th>york</th>\n",
       "      <th>young</th>\n",
       "      <th>zimin</th>\n",
       "      <th>label</th>\n",
       "    </tr>\n",
       "  </thead>\n",
       "  <tbody>\n",
       "    <tr>\n",
       "      <th>0</th>\n",
       "      <td>0</td>\n",
       "      <td>0</td>\n",
       "      <td>0</td>\n",
       "      <td>0</td>\n",
       "      <td>0</td>\n",
       "      <td>0</td>\n",
       "      <td>0</td>\n",
       "      <td>0</td>\n",
       "      <td>0</td>\n",
       "      <td>0</td>\n",
       "      <td>...</td>\n",
       "      <td>0</td>\n",
       "      <td>0</td>\n",
       "      <td>0</td>\n",
       "      <td>0</td>\n",
       "      <td>0</td>\n",
       "      <td>0</td>\n",
       "      <td>0</td>\n",
       "      <td>0</td>\n",
       "      <td>0</td>\n",
       "      <td>0</td>\n",
       "    </tr>\n",
       "    <tr>\n",
       "      <th>1</th>\n",
       "      <td>0</td>\n",
       "      <td>0</td>\n",
       "      <td>0</td>\n",
       "      <td>0</td>\n",
       "      <td>0</td>\n",
       "      <td>0</td>\n",
       "      <td>0</td>\n",
       "      <td>0</td>\n",
       "      <td>0</td>\n",
       "      <td>0</td>\n",
       "      <td>...</td>\n",
       "      <td>0</td>\n",
       "      <td>0</td>\n",
       "      <td>0</td>\n",
       "      <td>0</td>\n",
       "      <td>0</td>\n",
       "      <td>0</td>\n",
       "      <td>0</td>\n",
       "      <td>0</td>\n",
       "      <td>0</td>\n",
       "      <td>0</td>\n",
       "    </tr>\n",
       "    <tr>\n",
       "      <th>2</th>\n",
       "      <td>0</td>\n",
       "      <td>0</td>\n",
       "      <td>0</td>\n",
       "      <td>0</td>\n",
       "      <td>0</td>\n",
       "      <td>0</td>\n",
       "      <td>0</td>\n",
       "      <td>0</td>\n",
       "      <td>0</td>\n",
       "      <td>0</td>\n",
       "      <td>...</td>\n",
       "      <td>0</td>\n",
       "      <td>0</td>\n",
       "      <td>0</td>\n",
       "      <td>0</td>\n",
       "      <td>0</td>\n",
       "      <td>0</td>\n",
       "      <td>0</td>\n",
       "      <td>0</td>\n",
       "      <td>1</td>\n",
       "      <td>0</td>\n",
       "    </tr>\n",
       "    <tr>\n",
       "      <th>3</th>\n",
       "      <td>0</td>\n",
       "      <td>0</td>\n",
       "      <td>0</td>\n",
       "      <td>0</td>\n",
       "      <td>0</td>\n",
       "      <td>0</td>\n",
       "      <td>0</td>\n",
       "      <td>0</td>\n",
       "      <td>0</td>\n",
       "      <td>0</td>\n",
       "      <td>...</td>\n",
       "      <td>0</td>\n",
       "      <td>0</td>\n",
       "      <td>0</td>\n",
       "      <td>0</td>\n",
       "      <td>0</td>\n",
       "      <td>0</td>\n",
       "      <td>0</td>\n",
       "      <td>0</td>\n",
       "      <td>0</td>\n",
       "      <td>0</td>\n",
       "    </tr>\n",
       "    <tr>\n",
       "      <th>4</th>\n",
       "      <td>0</td>\n",
       "      <td>0</td>\n",
       "      <td>0</td>\n",
       "      <td>0</td>\n",
       "      <td>0</td>\n",
       "      <td>0</td>\n",
       "      <td>0</td>\n",
       "      <td>0</td>\n",
       "      <td>0</td>\n",
       "      <td>0</td>\n",
       "      <td>...</td>\n",
       "      <td>0</td>\n",
       "      <td>0</td>\n",
       "      <td>0</td>\n",
       "      <td>0</td>\n",
       "      <td>0</td>\n",
       "      <td>0</td>\n",
       "      <td>0</td>\n",
       "      <td>0</td>\n",
       "      <td>0</td>\n",
       "      <td>0</td>\n",
       "    </tr>\n",
       "  </tbody>\n",
       "</table>\n",
       "<p>5 rows × 2001 columns</p>\n",
       "</div>"
      ],
      "text/plain": [
       "   aa  ab  abil  abl  absolut  abstract  academ  accept  access  accomplish  \\\n",
       "0   0   0     0    0        0         0       0       0       0           0   \n",
       "1   0   0     0    0        0         0       0       0       0           0   \n",
       "2   0   0     0    0        0         0       0       0       0           0   \n",
       "3   0   0     0    0        0         0       0       0       0           0   \n",
       "4   0   0     0    0        0         0       0       0       0           0   \n",
       "\n",
       "   ...  yaman  year  yes  yesterday  yet  yield  york  young  zimin  label  \n",
       "0  ...      0     0    0          0    0      0     0      0      0      0  \n",
       "1  ...      0     0    0          0    0      0     0      0      0      0  \n",
       "2  ...      0     0    0          0    0      0     0      0      1      0  \n",
       "3  ...      0     0    0          0    0      0     0      0      0      0  \n",
       "4  ...      0     0    0          0    0      0     0      0      0      0  \n",
       "\n",
       "[5 rows x 2001 columns]"
      ]
     },
     "execution_count": 28,
     "metadata": {},
     "output_type": "execute_result"
    }
   ],
   "source": [
    "df.head()"
   ]
  },
  {
   "cell_type": "markdown",
   "metadata": {},
   "source": [
    "# Split data into input and target features"
   ]
  },
  {
   "cell_type": "code",
   "execution_count": 29,
   "metadata": {},
   "outputs": [],
   "source": [
    "X = df.iloc[:,0:-1]\n",
    "y = df[\"label\"]"
   ]
  },
  {
   "cell_type": "code",
   "execution_count": 30,
   "metadata": {},
   "outputs": [
    {
     "name": "stdout",
     "output_type": "stream",
     "text": [
      "(5854, 2000)\n",
      "(5854,)\n"
     ]
    }
   ],
   "source": [
    "# Check the shape of the data\n",
    "print(X.shape)\n",
    "print(y.shape)"
   ]
  },
  {
   "cell_type": "markdown",
   "metadata": {},
   "source": [
    "# Split the data into training and testing set"
   ]
  },
  {
   "cell_type": "code",
   "execution_count": 31,
   "metadata": {},
   "outputs": [],
   "source": [
    "X_train,X_test,y_train,y_test = train_test_split(X,y,train_size=0.8,random_state=42)"
   ]
  },
  {
   "cell_type": "code",
   "execution_count": 32,
   "metadata": {},
   "outputs": [
    {
     "data": {
      "text/html": [
       "<div>\n",
       "<style scoped>\n",
       "    .dataframe tbody tr th:only-of-type {\n",
       "        vertical-align: middle;\n",
       "    }\n",
       "\n",
       "    .dataframe tbody tr th {\n",
       "        vertical-align: top;\n",
       "    }\n",
       "\n",
       "    .dataframe thead th {\n",
       "        text-align: right;\n",
       "    }\n",
       "</style>\n",
       "<table border=\"1\" class=\"dataframe\">\n",
       "  <thead>\n",
       "    <tr style=\"text-align: right;\">\n",
       "      <th></th>\n",
       "      <th>Size</th>\n",
       "    </tr>\n",
       "  </thead>\n",
       "  <tbody>\n",
       "    <tr>\n",
       "      <th>Total</th>\n",
       "      <td>5854</td>\n",
       "    </tr>\n",
       "    <tr>\n",
       "      <th>Train</th>\n",
       "      <td>4683</td>\n",
       "    </tr>\n",
       "    <tr>\n",
       "      <th>Test</th>\n",
       "      <td>1171</td>\n",
       "    </tr>\n",
       "  </tbody>\n",
       "</table>\n",
       "</div>"
      ],
      "text/plain": [
       "       Size\n",
       "Total  5854\n",
       "Train  4683\n",
       "Test   1171"
      ]
     },
     "execution_count": 32,
     "metadata": {},
     "output_type": "execute_result"
    }
   ],
   "source": [
    "pd.DataFrame([len(X),len(X_train),len(X_test)],\n",
    "             index=[\"Total\",\"Train\",\"Test\"],\n",
    "             columns=[\"Size\"])"
   ]
  },
  {
   "cell_type": "code",
   "execution_count": 33,
   "metadata": {},
   "outputs": [
    {
     "name": "stdout",
     "output_type": "stream",
     "text": [
      "Spam/Total\n",
      "1188/4683 \n",
      "Spam proportion = 0.25\n"
     ]
    }
   ],
   "source": [
    "# checking the proportion of spam emails in the training set\n",
    "print(\"Spam/Total\")\n",
    "print(\"{}/{} \".format(int(sum(y_train)),len(y_train)))\n",
    "print(\"Spam proportion = {:0.2f}\".format(int(sum(y_train))/len(y_train)))"
   ]
  },
  {
   "cell_type": "markdown",
   "metadata": {},
   "source": [
    "# Model selection."
   ]
  },
  {
   "cell_type": "code",
   "execution_count": 34,
   "metadata": {},
   "outputs": [],
   "source": [
    "gnb = GaussianNB()"
   ]
  },
  {
   "cell_type": "markdown",
   "metadata": {},
   "source": [
    "# Cross validation"
   ]
  },
  {
   "cell_type": "markdown",
   "metadata": {},
   "source": [
    "learning curve"
   ]
  },
  {
   "cell_type": "code",
   "execution_count": 35,
   "metadata": {},
   "outputs": [
    {
     "name": "stdout",
     "output_type": "stream",
     "text": [
      "Train sizes\n",
      "[ 468  702  936 1170 1404 1639 1873 2107 2341 2575 2809 3043 3278 3512\n",
      " 3746]\n"
     ]
    }
   ],
   "source": [
    "# Create a learning curve\n",
    "train_sizes_fraction = np.arange(0.1,0.85,0.05)\n",
    "train_sizes = np.array(train_sizes_fraction*len(y_train)).astype(int)\n",
    "print(\"Train sizes\")\n",
    "print(train_sizes)"
   ]
  },
  {
   "cell_type": "code",
   "execution_count": 36,
   "metadata": {},
   "outputs": [],
   "source": [
    "# testing the learning curve and get the scores\n",
    "train_sizes, train_scores, valid_scores = learning_curve(gnb,X_train,y_train, train_sizes=train_sizes.astype(int), cv=5,scoring=\"f1\")"
   ]
  },
  {
   "cell_type": "code",
   "execution_count": 37,
   "metadata": {},
   "outputs": [
    {
     "data": {
      "text/html": [
       "<div>\n",
       "<style scoped>\n",
       "    .dataframe tbody tr th:only-of-type {\n",
       "        vertical-align: middle;\n",
       "    }\n",
       "\n",
       "    .dataframe tbody tr th {\n",
       "        vertical-align: top;\n",
       "    }\n",
       "\n",
       "    .dataframe thead th {\n",
       "        text-align: right;\n",
       "    }\n",
       "</style>\n",
       "<table border=\"1\" class=\"dataframe\">\n",
       "  <thead>\n",
       "    <tr style=\"text-align: right;\">\n",
       "      <th></th>\n",
       "      <th>Training size</th>\n",
       "      <th>Training F1-score</th>\n",
       "      <th>CV F1-score</th>\n",
       "    </tr>\n",
       "  </thead>\n",
       "  <tbody>\n",
       "    <tr>\n",
       "      <th>11</th>\n",
       "      <td>3043.0</td>\n",
       "      <td>0.946906</td>\n",
       "      <td>0.910777</td>\n",
       "    </tr>\n",
       "    <tr>\n",
       "      <th>10</th>\n",
       "      <td>2809.0</td>\n",
       "      <td>0.950055</td>\n",
       "      <td>0.910633</td>\n",
       "    </tr>\n",
       "    <tr>\n",
       "      <th>13</th>\n",
       "      <td>3512.0</td>\n",
       "      <td>0.945889</td>\n",
       "      <td>0.910436</td>\n",
       "    </tr>\n",
       "    <tr>\n",
       "      <th>12</th>\n",
       "      <td>3278.0</td>\n",
       "      <td>0.946444</td>\n",
       "      <td>0.909908</td>\n",
       "    </tr>\n",
       "    <tr>\n",
       "      <th>14</th>\n",
       "      <td>3746.0</td>\n",
       "      <td>0.945676</td>\n",
       "      <td>0.909286</td>\n",
       "    </tr>\n",
       "    <tr>\n",
       "      <th>9</th>\n",
       "      <td>2575.0</td>\n",
       "      <td>0.950032</td>\n",
       "      <td>0.907576</td>\n",
       "    </tr>\n",
       "    <tr>\n",
       "      <th>8</th>\n",
       "      <td>2341.0</td>\n",
       "      <td>0.955636</td>\n",
       "      <td>0.904174</td>\n",
       "    </tr>\n",
       "    <tr>\n",
       "      <th>6</th>\n",
       "      <td>1873.0</td>\n",
       "      <td>0.961956</td>\n",
       "      <td>0.899596</td>\n",
       "    </tr>\n",
       "    <tr>\n",
       "      <th>7</th>\n",
       "      <td>2107.0</td>\n",
       "      <td>0.957774</td>\n",
       "      <td>0.897489</td>\n",
       "    </tr>\n",
       "    <tr>\n",
       "      <th>4</th>\n",
       "      <td>1404.0</td>\n",
       "      <td>0.974263</td>\n",
       "      <td>0.895503</td>\n",
       "    </tr>\n",
       "    <tr>\n",
       "      <th>5</th>\n",
       "      <td>1639.0</td>\n",
       "      <td>0.965883</td>\n",
       "      <td>0.895457</td>\n",
       "    </tr>\n",
       "    <tr>\n",
       "      <th>3</th>\n",
       "      <td>1170.0</td>\n",
       "      <td>0.975253</td>\n",
       "      <td>0.876459</td>\n",
       "    </tr>\n",
       "    <tr>\n",
       "      <th>2</th>\n",
       "      <td>936.0</td>\n",
       "      <td>0.978210</td>\n",
       "      <td>0.850529</td>\n",
       "    </tr>\n",
       "    <tr>\n",
       "      <th>1</th>\n",
       "      <td>702.0</td>\n",
       "      <td>0.986765</td>\n",
       "      <td>0.805527</td>\n",
       "    </tr>\n",
       "    <tr>\n",
       "      <th>0</th>\n",
       "      <td>468.0</td>\n",
       "      <td>0.995984</td>\n",
       "      <td>0.768647</td>\n",
       "    </tr>\n",
       "  </tbody>\n",
       "</table>\n",
       "</div>"
      ],
      "text/plain": [
       "    Training size  Training F1-score  CV F1-score\n",
       "11         3043.0           0.946906     0.910777\n",
       "10         2809.0           0.950055     0.910633\n",
       "13         3512.0           0.945889     0.910436\n",
       "12         3278.0           0.946444     0.909908\n",
       "14         3746.0           0.945676     0.909286\n",
       "9          2575.0           0.950032     0.907576\n",
       "8          2341.0           0.955636     0.904174\n",
       "6          1873.0           0.961956     0.899596\n",
       "7          2107.0           0.957774     0.897489\n",
       "4          1404.0           0.974263     0.895503\n",
       "5          1639.0           0.965883     0.895457\n",
       "3          1170.0           0.975253     0.876459\n",
       "2           936.0           0.978210     0.850529\n",
       "1           702.0           0.986765     0.805527\n",
       "0           468.0           0.995984     0.768647"
      ]
     },
     "execution_count": 37,
     "metadata": {},
     "output_type": "execute_result"
    }
   ],
   "source": [
    "# compute the mean of the scores\n",
    "cv_results = pd.DataFrame([np.round(train_sizes),np.mean(train_scores,axis=1),np.mean(valid_scores,axis=1)],\n",
    "             index=['Training size','Training F1-score','CV F1-score']).T\n",
    "cv_results = cv_results.sort_values(by='CV F1-score', ascending=False)\n",
    "cv_results"
   ]
  },
  {
   "cell_type": "code",
   "execution_count": 38,
   "metadata": {},
   "outputs": [
    {
     "data": {
      "text/plain": [
       "Text(0.5, 1.0, 'Gaussian Naive Bayes')"
      ]
     },
     "execution_count": 38,
     "metadata": {},
     "output_type": "execute_result"
    },
    {
     "data": {
      "image/png": "[encoded data removed]",
      "text/plain": [
       "<Figure size 1000x800 with 1 Axes>"
      ]
     },
     "metadata": {},
     "output_type": "display_data"
    }
   ],
   "source": [
    "# Plot the learning curve\n",
    "plt.figure(figsize=(10,8))\n",
    "plt.style.use(\"bmh\")\n",
    "plt.plot(train_sizes,np.mean(train_scores,axis=1),\"-o\",label=\"Training score\",)\n",
    "plt.plot(train_sizes,np.mean(valid_scores,axis=1),\"-o\",label=\"Cross-validation score\")\n",
    "plt.ylim((0.5,1))\n",
    "plt.legend(loc=4,frameon=True)\n",
    "plt.xlabel(\"Training size\")\n",
    "plt.ylabel(\"F1-Score\")\n",
    "plt.title(\"Gaussian Naive Bayes\")"
   ]
  },
  {
   "cell_type": "code",
   "execution_count": 39,
   "metadata": {},
   "outputs": [
    {
     "name": "stdout",
     "output_type": "stream",
     "text": [
      "GNB score:  0.9257503949447078\n"
     ]
    }
   ],
   "source": [
    "# Model performance on training set\n",
    "gnb.fit(X_train,y_train)\n",
    "print(\"GNB score: \", f1_score(y_test,gnb.predict(X_test)))"
   ]
  },
  {
   "cell_type": "markdown",
   "metadata": {},
   "source": [
    "Feature vs performance"
   ]
  },
  {
   "cell_type": "code",
   "execution_count": 40,
   "metadata": {},
   "outputs": [
    {
     "name": "stdout",
     "output_type": "stream",
     "text": [
      "1/10"
     ]
    },
    {
     "name": "stderr",
     "output_type": "stream",
     "text": [
      "C:\\Users\\User\\AppData\\Local\\Temp\\ipykernel_12296\\1175101027.py:49: FutureWarning: Calling float on a single element Series is deprecated and will raise a TypeError in the future. Use float(ser.iloc[0]) instead\n",
      "  best_models[counter, 1] = cv_results[cv_results[\"CV scores\"] == cv_results[\"CV scores\"].max()][\"CV scores\"]\n",
      "C:\\Users\\User\\AppData\\Local\\Temp\\ipykernel_12296\\1175101027.py:50: FutureWarning: Calling float on a single element Series is deprecated and will raise a TypeError in the future. Use float(ser.iloc[0]) instead\n",
      "  best_models[counter, 2] = cv_results[cv_results[\"CV scores\"] == cv_results[\"CV scores\"].max()][\"Fit time\"]\n",
      "C:\\Users\\User\\AppData\\Local\\Temp\\ipykernel_12296\\1175101027.py:51: FutureWarning: Calling float on a single element Series is deprecated and will raise a TypeError in the future. Use float(ser.iloc[0]) instead\n",
      "  best_models[counter, 3] = cv_results[cv_results[\"CV scores\"] == cv_results[\"CV scores\"].max()][\"Score time\"]\n"
     ]
    },
    {
     "name": "stdout",
     "output_type": "stream",
     "text": [
      "2/10"
     ]
    },
    {
     "name": "stderr",
     "output_type": "stream",
     "text": [
      "C:\\Users\\User\\AppData\\Local\\Temp\\ipykernel_12296\\1175101027.py:49: FutureWarning: Calling float on a single element Series is deprecated and will raise a TypeError in the future. Use float(ser.iloc[0]) instead\n",
      "  best_models[counter, 1] = cv_results[cv_results[\"CV scores\"] == cv_results[\"CV scores\"].max()][\"CV scores\"]\n",
      "C:\\Users\\User\\AppData\\Local\\Temp\\ipykernel_12296\\1175101027.py:50: FutureWarning: Calling float on a single element Series is deprecated and will raise a TypeError in the future. Use float(ser.iloc[0]) instead\n",
      "  best_models[counter, 2] = cv_results[cv_results[\"CV scores\"] == cv_results[\"CV scores\"].max()][\"Fit time\"]\n",
      "C:\\Users\\User\\AppData\\Local\\Temp\\ipykernel_12296\\1175101027.py:51: FutureWarning: Calling float on a single element Series is deprecated and will raise a TypeError in the future. Use float(ser.iloc[0]) instead\n",
      "  best_models[counter, 3] = cv_results[cv_results[\"CV scores\"] == cv_results[\"CV scores\"].max()][\"Score time\"]\n"
     ]
    },
    {
     "name": "stdout",
     "output_type": "stream",
     "text": [
      "3/10"
     ]
    },
    {
     "name": "stderr",
     "output_type": "stream",
     "text": [
      "C:\\Users\\User\\AppData\\Local\\Temp\\ipykernel_12296\\1175101027.py:49: FutureWarning: Calling float on a single element Series is deprecated and will raise a TypeError in the future. Use float(ser.iloc[0]) instead\n",
      "  best_models[counter, 1] = cv_results[cv_results[\"CV scores\"] == cv_results[\"CV scores\"].max()][\"CV scores\"]\n",
      "C:\\Users\\User\\AppData\\Local\\Temp\\ipykernel_12296\\1175101027.py:50: FutureWarning: Calling float on a single element Series is deprecated and will raise a TypeError in the future. Use float(ser.iloc[0]) instead\n",
      "  best_models[counter, 2] = cv_results[cv_results[\"CV scores\"] == cv_results[\"CV scores\"].max()][\"Fit time\"]\n",
      "C:\\Users\\User\\AppData\\Local\\Temp\\ipykernel_12296\\1175101027.py:51: FutureWarning: Calling float on a single element Series is deprecated and will raise a TypeError in the future. Use float(ser.iloc[0]) instead\n",
      "  best_models[counter, 3] = cv_results[cv_results[\"CV scores\"] == cv_results[\"CV scores\"].max()][\"Score time\"]\n"
     ]
    },
    {
     "name": "stdout",
     "output_type": "stream",
     "text": [
      "4/10"
     ]
    },
    {
     "name": "stderr",
     "output_type": "stream",
     "text": [
      "C:\\Users\\User\\AppData\\Local\\Temp\\ipykernel_12296\\1175101027.py:49: FutureWarning: Calling float on a single element Series is deprecated and will raise a TypeError in the future. Use float(ser.iloc[0]) instead\n",
      "  best_models[counter, 1] = cv_results[cv_results[\"CV scores\"] == cv_results[\"CV scores\"].max()][\"CV scores\"]\n",
      "C:\\Users\\User\\AppData\\Local\\Temp\\ipykernel_12296\\1175101027.py:50: FutureWarning: Calling float on a single element Series is deprecated and will raise a TypeError in the future. Use float(ser.iloc[0]) instead\n",
      "  best_models[counter, 2] = cv_results[cv_results[\"CV scores\"] == cv_results[\"CV scores\"].max()][\"Fit time\"]\n",
      "C:\\Users\\User\\AppData\\Local\\Temp\\ipykernel_12296\\1175101027.py:51: FutureWarning: Calling float on a single element Series is deprecated and will raise a TypeError in the future. Use float(ser.iloc[0]) instead\n",
      "  best_models[counter, 3] = cv_results[cv_results[\"CV scores\"] == cv_results[\"CV scores\"].max()][\"Score time\"]\n"
     ]
    },
    {
     "name": "stdout",
     "output_type": "stream",
     "text": [
      "5/10"
     ]
    },
    {
     "name": "stderr",
     "output_type": "stream",
     "text": [
      "C:\\Users\\User\\AppData\\Local\\Temp\\ipykernel_12296\\1175101027.py:49: FutureWarning: Calling float on a single element Series is deprecated and will raise a TypeError in the future. Use float(ser.iloc[0]) instead\n",
      "  best_models[counter, 1] = cv_results[cv_results[\"CV scores\"] == cv_results[\"CV scores\"].max()][\"CV scores\"]\n",
      "C:\\Users\\User\\AppData\\Local\\Temp\\ipykernel_12296\\1175101027.py:50: FutureWarning: Calling float on a single element Series is deprecated and will raise a TypeError in the future. Use float(ser.iloc[0]) instead\n",
      "  best_models[counter, 2] = cv_results[cv_results[\"CV scores\"] == cv_results[\"CV scores\"].max()][\"Fit time\"]\n",
      "C:\\Users\\User\\AppData\\Local\\Temp\\ipykernel_12296\\1175101027.py:51: FutureWarning: Calling float on a single element Series is deprecated and will raise a TypeError in the future. Use float(ser.iloc[0]) instead\n",
      "  best_models[counter, 3] = cv_results[cv_results[\"CV scores\"] == cv_results[\"CV scores\"].max()][\"Score time\"]\n"
     ]
    },
    {
     "name": "stdout",
     "output_type": "stream",
     "text": [
      "6/10"
     ]
    },
    {
     "name": "stderr",
     "output_type": "stream",
     "text": [
      "C:\\Users\\User\\AppData\\Local\\Temp\\ipykernel_12296\\1175101027.py:49: FutureWarning: Calling float on a single element Series is deprecated and will raise a TypeError in the future. Use float(ser.iloc[0]) instead\n",
      "  best_models[counter, 1] = cv_results[cv_results[\"CV scores\"] == cv_results[\"CV scores\"].max()][\"CV scores\"]\n",
      "C:\\Users\\User\\AppData\\Local\\Temp\\ipykernel_12296\\1175101027.py:50: FutureWarning: Calling float on a single element Series is deprecated and will raise a TypeError in the future. Use float(ser.iloc[0]) instead\n",
      "  best_models[counter, 2] = cv_results[cv_results[\"CV scores\"] == cv_results[\"CV scores\"].max()][\"Fit time\"]\n",
      "C:\\Users\\User\\AppData\\Local\\Temp\\ipykernel_12296\\1175101027.py:51: FutureWarning: Calling float on a single element Series is deprecated and will raise a TypeError in the future. Use float(ser.iloc[0]) instead\n",
      "  best_models[counter, 3] = cv_results[cv_results[\"CV scores\"] == cv_results[\"CV scores\"].max()][\"Score time\"]\n"
     ]
    },
    {
     "name": "stdout",
     "output_type": "stream",
     "text": [
      "7/10"
     ]
    },
    {
     "name": "stderr",
     "output_type": "stream",
     "text": [
      "C:\\Users\\User\\AppData\\Local\\Temp\\ipykernel_12296\\1175101027.py:49: FutureWarning: Calling float on a single element Series is deprecated and will raise a TypeError in the future. Use float(ser.iloc[0]) instead\n",
      "  best_models[counter, 1] = cv_results[cv_results[\"CV scores\"] == cv_results[\"CV scores\"].max()][\"CV scores\"]\n",
      "C:\\Users\\User\\AppData\\Local\\Temp\\ipykernel_12296\\1175101027.py:50: FutureWarning: Calling float on a single element Series is deprecated and will raise a TypeError in the future. Use float(ser.iloc[0]) instead\n",
      "  best_models[counter, 2] = cv_results[cv_results[\"CV scores\"] == cv_results[\"CV scores\"].max()][\"Fit time\"]\n",
      "C:\\Users\\User\\AppData\\Local\\Temp\\ipykernel_12296\\1175101027.py:51: FutureWarning: Calling float on a single element Series is deprecated and will raise a TypeError in the future. Use float(ser.iloc[0]) instead\n",
      "  best_models[counter, 3] = cv_results[cv_results[\"CV scores\"] == cv_results[\"CV scores\"].max()][\"Score time\"]\n"
     ]
    },
    {
     "name": "stdout",
     "output_type": "stream",
     "text": [
      "8/10"
     ]
    },
    {
     "name": "stderr",
     "output_type": "stream",
     "text": [
      "C:\\Users\\User\\AppData\\Local\\Temp\\ipykernel_12296\\1175101027.py:49: FutureWarning: Calling float on a single element Series is deprecated and will raise a TypeError in the future. Use float(ser.iloc[0]) instead\n",
      "  best_models[counter, 1] = cv_results[cv_results[\"CV scores\"] == cv_results[\"CV scores\"].max()][\"CV scores\"]\n",
      "C:\\Users\\User\\AppData\\Local\\Temp\\ipykernel_12296\\1175101027.py:50: FutureWarning: Calling float on a single element Series is deprecated and will raise a TypeError in the future. Use float(ser.iloc[0]) instead\n",
      "  best_models[counter, 2] = cv_results[cv_results[\"CV scores\"] == cv_results[\"CV scores\"].max()][\"Fit time\"]\n",
      "C:\\Users\\User\\AppData\\Local\\Temp\\ipykernel_12296\\1175101027.py:51: FutureWarning: Calling float on a single element Series is deprecated and will raise a TypeError in the future. Use float(ser.iloc[0]) instead\n",
      "  best_models[counter, 3] = cv_results[cv_results[\"CV scores\"] == cv_results[\"CV scores\"].max()][\"Score time\"]\n"
     ]
    },
    {
     "name": "stdout",
     "output_type": "stream",
     "text": [
      "9/10"
     ]
    },
    {
     "name": "stderr",
     "output_type": "stream",
     "text": [
      "C:\\Users\\User\\AppData\\Local\\Temp\\ipykernel_12296\\1175101027.py:49: FutureWarning: Calling float on a single element Series is deprecated and will raise a TypeError in the future. Use float(ser.iloc[0]) instead\n",
      "  best_models[counter, 1] = cv_results[cv_results[\"CV scores\"] == cv_results[\"CV scores\"].max()][\"CV scores\"]\n",
      "C:\\Users\\User\\AppData\\Local\\Temp\\ipykernel_12296\\1175101027.py:50: FutureWarning: Calling float on a single element Series is deprecated and will raise a TypeError in the future. Use float(ser.iloc[0]) instead\n",
      "  best_models[counter, 2] = cv_results[cv_results[\"CV scores\"] == cv_results[\"CV scores\"].max()][\"Fit time\"]\n",
      "C:\\Users\\User\\AppData\\Local\\Temp\\ipykernel_12296\\1175101027.py:51: FutureWarning: Calling float on a single element Series is deprecated and will raise a TypeError in the future. Use float(ser.iloc[0]) instead\n",
      "  best_models[counter, 3] = cv_results[cv_results[\"CV scores\"] == cv_results[\"CV scores\"].max()][\"Score time\"]\n"
     ]
    },
    {
     "name": "stdout",
     "output_type": "stream",
     "text": [
      "10/10"
     ]
    },
    {
     "name": "stderr",
     "output_type": "stream",
     "text": [
      "C:\\Users\\User\\AppData\\Local\\Temp\\ipykernel_12296\\1175101027.py:49: FutureWarning: Calling float on a single element Series is deprecated and will raise a TypeError in the future. Use float(ser.iloc[0]) instead\n",
      "  best_models[counter, 1] = cv_results[cv_results[\"CV scores\"] == cv_results[\"CV scores\"].max()][\"CV scores\"]\n",
      "C:\\Users\\User\\AppData\\Local\\Temp\\ipykernel_12296\\1175101027.py:50: FutureWarning: Calling float on a single element Series is deprecated and will raise a TypeError in the future. Use float(ser.iloc[0]) instead\n",
      "  best_models[counter, 2] = cv_results[cv_results[\"CV scores\"] == cv_results[\"CV scores\"].max()][\"Fit time\"]\n",
      "C:\\Users\\User\\AppData\\Local\\Temp\\ipykernel_12296\\1175101027.py:51: FutureWarning: Calling float on a single element Series is deprecated and will raise a TypeError in the future. Use float(ser.iloc[0]) instead\n",
      "  best_models[counter, 3] = cv_results[cv_results[\"CV scores\"] == cv_results[\"CV scores\"].max()][\"Score time\"]\n"
     ]
    },
    {
     "data": {
      "image/png": "[encoded data removed]",
      "text/plain": [
       "<Figure size 2000x1000 with 10 Axes>"
      ]
     },
     "metadata": {},
     "output_type": "display_data"
    }
   ],
   "source": [
    "# Defining the range of features to evaluate\n",
    "iterat = np.arange(200, 2001, 200)\n",
    "best_models = np.zeros((len(iterat), 4))  \n",
    "counter = 0  \n",
    "\n",
    "\n",
    "plt.figure(figsize=(20, 10))\n",
    "plt.style.use(\"bmh\")\n",
    "\n",
    "# Looping over different numbers of features to evaluate\n",
    "for n_features in iterat:\n",
    "    print(f\"\\r{counter + 1}/{len(iterat)}\", end=\"\")  \n",
    "\n",
    "    # Cross-validation for the current number of features\n",
    "    (train_sizes, train_scores, valid_scores, fit_time, score_time) = learning_curve(\n",
    "        gnb, \n",
    "        X_train.iloc[:, 0:n_features], \n",
    "        y_train, \n",
    "        train_sizes=train_sizes.astype(int), \n",
    "        cv=5, \n",
    "        scoring=\"f1\", \n",
    "        return_times=True\n",
    "    )\n",
    "   \n",
    "    \n",
    "    cv_results = pd.DataFrame(\n",
    "        [\n",
    "            np.round(train_sizes),\n",
    "            np.mean(train_scores, axis=1),\n",
    "            np.mean(valid_scores, axis=1),\n",
    "            np.mean(fit_time, axis=1),\n",
    "            np.mean(score_time, axis=1)\n",
    "        ],\n",
    "        index=[\"Training size\", \"Training scores\", \"CV scores\", \"Fit time\", \"Score time\"]\n",
    "    ).T\n",
    "    \n",
    "    # Plot the learning curves (Training vs. CV scores)\n",
    "    plt.subplot(2, 5, counter + 1)\n",
    "    plt.plot(train_sizes, np.mean(train_scores, axis=1), \"-o\", label=\"Training score\")\n",
    "    plt.plot(train_sizes, np.mean(valid_scores, axis=1), \"-o\", label=\"Cross-validation score\")\n",
    "    plt.ylim((0.5, 1))\n",
    "    plt.legend(loc=4, frameon=True)\n",
    "    plt.xlabel(\"Training size\")\n",
    "    plt.ylabel(\"F1-Score\")\n",
    "    plt.title(f\"Features: {n_features}\")\n",
    "\n",
    "    # Extract the best cross-validation score and the corresponding fit and score times\n",
    "    best_models[counter, 0] = n_features\n",
    "    best_models[counter, 1] = cv_results[cv_results[\"CV scores\"] == cv_results[\"CV scores\"].max()][\"CV scores\"]\n",
    "    best_models[counter, 2] = cv_results[cv_results[\"CV scores\"] == cv_results[\"CV scores\"].max()][\"Fit time\"]\n",
    "    best_models[counter, 3] = cv_results[cv_results[\"CV scores\"] == cv_results[\"CV scores\"].max()][\"Score time\"]\n",
    "\n",
    "    # Increment the counter for the next iteration\n",
    "    counter += 1"
   ]
  },
  {
   "cell_type": "code",
   "execution_count": 41,
   "metadata": {},
   "outputs": [
    {
     "data": {
      "text/html": [
       "<div>\n",
       "<style scoped>\n",
       "    .dataframe tbody tr th:only-of-type {\n",
       "        vertical-align: middle;\n",
       "    }\n",
       "\n",
       "    .dataframe tbody tr th {\n",
       "        vertical-align: top;\n",
       "    }\n",
       "\n",
       "    .dataframe thead th {\n",
       "        text-align: right;\n",
       "    }\n",
       "</style>\n",
       "<table border=\"1\" class=\"dataframe\">\n",
       "  <thead>\n",
       "    <tr style=\"text-align: right;\">\n",
       "      <th></th>\n",
       "      <th>Features</th>\n",
       "      <th>CV F1-scores</th>\n",
       "      <th>Fit time</th>\n",
       "      <th>Score time</th>\n",
       "    </tr>\n",
       "  </thead>\n",
       "  <tbody>\n",
       "    <tr>\n",
       "      <th>0</th>\n",
       "      <td>200.0</td>\n",
       "      <td>0.544458</td>\n",
       "      <td>0.019015</td>\n",
       "      <td>0.011543</td>\n",
       "    </tr>\n",
       "    <tr>\n",
       "      <th>1</th>\n",
       "      <td>400.0</td>\n",
       "      <td>0.642208</td>\n",
       "      <td>0.009205</td>\n",
       "      <td>0.015084</td>\n",
       "    </tr>\n",
       "    <tr>\n",
       "      <th>2</th>\n",
       "      <td>600.0</td>\n",
       "      <td>0.799239</td>\n",
       "      <td>0.041812</td>\n",
       "      <td>0.025681</td>\n",
       "    </tr>\n",
       "    <tr>\n",
       "      <th>3</th>\n",
       "      <td>800.0</td>\n",
       "      <td>0.801165</td>\n",
       "      <td>0.060916</td>\n",
       "      <td>0.030683</td>\n",
       "    </tr>\n",
       "    <tr>\n",
       "      <th>4</th>\n",
       "      <td>1000.0</td>\n",
       "      <td>0.826480</td>\n",
       "      <td>0.059064</td>\n",
       "      <td>0.042948</td>\n",
       "    </tr>\n",
       "    <tr>\n",
       "      <th>5</th>\n",
       "      <td>1200.0</td>\n",
       "      <td>0.839116</td>\n",
       "      <td>0.097380</td>\n",
       "      <td>0.066255</td>\n",
       "    </tr>\n",
       "    <tr>\n",
       "      <th>6</th>\n",
       "      <td>1400.0</td>\n",
       "      <td>0.851115</td>\n",
       "      <td>0.193479</td>\n",
       "      <td>0.081411</td>\n",
       "    </tr>\n",
       "    <tr>\n",
       "      <th>7</th>\n",
       "      <td>1600.0</td>\n",
       "      <td>0.862349</td>\n",
       "      <td>0.137830</td>\n",
       "      <td>0.049870</td>\n",
       "    </tr>\n",
       "    <tr>\n",
       "      <th>8</th>\n",
       "      <td>1800.0</td>\n",
       "      <td>0.884890</td>\n",
       "      <td>0.161933</td>\n",
       "      <td>0.057313</td>\n",
       "    </tr>\n",
       "    <tr>\n",
       "      <th>9</th>\n",
       "      <td>2000.0</td>\n",
       "      <td>0.910777</td>\n",
       "      <td>0.210401</td>\n",
       "      <td>0.056516</td>\n",
       "    </tr>\n",
       "  </tbody>\n",
       "</table>\n",
       "</div>"
      ],
      "text/plain": [
       "   Features  CV F1-scores  Fit time  Score time\n",
       "0     200.0      0.544458  0.019015    0.011543\n",
       "1     400.0      0.642208  0.009205    0.015084\n",
       "2     600.0      0.799239  0.041812    0.025681\n",
       "3     800.0      0.801165  0.060916    0.030683\n",
       "4    1000.0      0.826480  0.059064    0.042948\n",
       "5    1200.0      0.839116  0.097380    0.066255\n",
       "6    1400.0      0.851115  0.193479    0.081411\n",
       "7    1600.0      0.862349  0.137830    0.049870\n",
       "8    1800.0      0.884890  0.161933    0.057313\n",
       "9    2000.0      0.910777  0.210401    0.056516"
      ]
     },
     "execution_count": 41,
     "metadata": {},
     "output_type": "execute_result"
    }
   ],
   "source": [
    "# Display the selected models for each number of features\n",
    "best_models = pd.DataFrame(best_models,\n",
    "             columns=[\"Features\",\"CV F1-scores\",\"Fit time\",\"Score time\"])\n",
    "best_models"
   ]
  },
  {
   "cell_type": "code",
   "execution_count": 42,
   "metadata": {},
   "outputs": [
    {
     "data": {
      "text/plain": [
       "Text(0, 0.5, 'Fit time')"
      ]
     },
     "execution_count": 42,
     "metadata": {},
     "output_type": "execute_result"
    },
    {
     "data": {
      "image/png": "[encoded data removed]",
      "text/plain": [
       "<Figure size 1000x500 with 2 Axes>"
      ]
     },
     "metadata": {},
     "output_type": "display_data"
    }
   ],
   "source": [
    "# Plot the best models\n",
    "plt.figure(figsize=(10,5))\n",
    "plt.subplot(1,2,1)\n",
    "plt.plot(best_models[\"Features\"],best_models[\"CV F1-scores\"],\"-o\")\n",
    "plt.xlabel(\"Features\")\n",
    "plt.ylabel(\"CV F1-Score\")\n",
    "\n",
    "plt.subplot(1,2,2)\n",
    "plt.plot(best_models[\"Features\"],best_models[\"Fit time\"],\"-o\")\n",
    "plt.xlabel(\"Features\")\n",
    "plt.ylabel(\"Fit time\")"
   ]
  },
  {
   "cell_type": "markdown",
   "metadata": {},
   "source": [
    "Evaluating the best model."
   ]
  },
  {
   "cell_type": "code",
   "execution_count": 43,
   "metadata": {},
   "outputs": [],
   "source": [
    "#Training size for best model\n",
    "X_subtrain, X_cv, y_subtrain, y_cv = train_test_split(X_train,y_train,train_size=0.8)"
   ]
  },
  {
   "cell_type": "code",
   "execution_count": 44,
   "metadata": {},
   "outputs": [
    {
     "data": {
      "text/html": [
       "<div>\n",
       "<style scoped>\n",
       "    .dataframe tbody tr th:only-of-type {\n",
       "        vertical-align: middle;\n",
       "    }\n",
       "\n",
       "    .dataframe tbody tr th {\n",
       "        vertical-align: top;\n",
       "    }\n",
       "\n",
       "    .dataframe thead th {\n",
       "        text-align: right;\n",
       "    }\n",
       "</style>\n",
       "<table border=\"1\" class=\"dataframe\">\n",
       "  <thead>\n",
       "    <tr style=\"text-align: right;\">\n",
       "      <th></th>\n",
       "      <th>Size</th>\n",
       "    </tr>\n",
       "  </thead>\n",
       "  <tbody>\n",
       "    <tr>\n",
       "      <th>Total</th>\n",
       "      <td>4683</td>\n",
       "    </tr>\n",
       "    <tr>\n",
       "      <th>Train</th>\n",
       "      <td>3746</td>\n",
       "    </tr>\n",
       "    <tr>\n",
       "      <th>Test</th>\n",
       "      <td>937</td>\n",
       "    </tr>\n",
       "  </tbody>\n",
       "</table>\n",
       "</div>"
      ],
      "text/plain": [
       "       Size\n",
       "Total  4683\n",
       "Train  3746\n",
       "Test    937"
      ]
     },
     "execution_count": 44,
     "metadata": {},
     "output_type": "execute_result"
    }
   ],
   "source": [
    "pd.DataFrame([len(X_train),len(X_subtrain),len(X_cv)],\n",
    "             index=[\"Total\",\"Train\",\"Test\"],\n",
    "             columns=[\"Size\"])"
   ]
  },
  {
   "cell_type": "code",
   "execution_count": 45,
   "metadata": {},
   "outputs": [
    {
     "name": "stdout",
     "output_type": "stream",
     "text": [
      "y-test size: 1171\n",
      "Ham: 863\n",
      "Spam: 308\n"
     ]
    }
   ],
   "source": [
    "print(\"y-test size: {}\".format(len(y_test)))\n",
    "print(\"Ham: {}\".format(len(y_test)-sum(y_test)))\n",
    "print(\"Spam: {}\".format(sum(y_test)))"
   ]
  },
  {
   "cell_type": "code",
   "execution_count": 46,
   "metadata": {},
   "outputs": [
    {
     "data": {
      "text/html": [
       "<style>#sk-container-id-1 {\n",
       "  /* Definition of color scheme common for light and dark mode */\n",
       "  --sklearn-color-text: black;\n",
       "  --sklearn-color-line: gray;\n",
       "  /* Definition of color scheme for unfitted estimators */\n",
       "  --sklearn-color-unfitted-level-0: #fff5e6;\n",
       "  --sklearn-color-unfitted-level-1: #f6e4d2;\n",
       "  --sklearn-color-unfitted-level-2: #ffe0b3;\n",
       "  --sklearn-color-unfitted-level-3: chocolate;\n",
       "  /* Definition of color scheme for fitted estimators */\n",
       "  --sklearn-color-fitted-level-0: #f0f8ff;\n",
       "  --sklearn-color-fitted-level-1: #d4ebff;\n",
       "  --sklearn-color-fitted-level-2: #b3dbfd;\n",
       "  --sklearn-color-fitted-level-3: cornflowerblue;\n",
       "\n",
       "  /* Specific color for light theme */\n",
       "  --sklearn-color-text-on-default-background: var(--sg-text-color, var(--theme-code-foreground, var(--jp-content-font-color1, black)));\n",
       "  --sklearn-color-background: var(--sg-background-color, var(--theme-background, var(--jp-layout-color0, white)));\n",
       "  --sklearn-color-border-box: var(--sg-text-color, var(--theme-code-foreground, var(--jp-content-font-color1, black)));\n",
       "  --sklearn-color-icon: #696969;\n",
       "\n",
       "  @media (prefers-color-scheme: dark) {\n",
       "    /* Redefinition of color scheme for dark theme */\n",
       "    --sklearn-color-text-on-default-background: var(--sg-text-color, var(--theme-code-foreground, var(--jp-content-font-color1, white)));\n",
       "    --sklearn-color-background: var(--sg-background-color, var(--theme-background, var(--jp-layout-color0, #111)));\n",
       "    --sklearn-color-border-box: var(--sg-text-color, var(--theme-code-foreground, var(--jp-content-font-color1, white)));\n",
       "    --sklearn-color-icon: #878787;\n",
       "  }\n",
       "}\n",
       "\n",
       "#sk-container-id-1 {\n",
       "  color: var(--sklearn-color-text);\n",
       "}\n",
       "\n",
       "#sk-container-id-1 pre {\n",
       "  padding: 0;\n",
       "}\n",
       "\n",
       "#sk-container-id-1 input.sk-hidden--visually {\n",
       "  border: 0;\n",
       "  clip: rect(1px 1px 1px 1px);\n",
       "  clip: rect(1px, 1px, 1px, 1px);\n",
       "  height: 1px;\n",
       "  margin: -1px;\n",
       "  overflow: hidden;\n",
       "  padding: 0;\n",
       "  position: absolute;\n",
       "  width: 1px;\n",
       "}\n",
       "\n",
       "#sk-container-id-1 div.sk-dashed-wrapped {\n",
       "  border: 1px dashed var(--sklearn-color-line);\n",
       "  margin: 0 0.4em 0.5em 0.4em;\n",
       "  box-sizing: border-box;\n",
       "  padding-bottom: 0.4em;\n",
       "  background-color: var(--sklearn-color-background);\n",
       "}\n",
       "\n",
       "#sk-container-id-1 div.sk-container {\n",
       "  /* jupyter's `normalize.less` sets `[hidden] { display: none; }`\n",
       "     but bootstrap.min.css set `[hidden] { display: none !important; }`\n",
       "     so we also need the `!important` here to be able to override the\n",
       "     default hidden behavior on the sphinx rendered scikit-learn.org.\n",
       "     See: https://github.com/scikit-learn/scikit-learn/issues/21755 */\n",
       "  display: inline-block !important;\n",
       "  position: relative;\n",
       "}\n",
       "\n",
       "#sk-container-id-1 div.sk-text-repr-fallback {\n",
       "  display: none;\n",
       "}\n",
       "\n",
       "div.sk-parallel-item,\n",
       "div.sk-serial,\n",
       "div.sk-item {\n",
       "  /* draw centered vertical line to link estimators */\n",
       "  background-image: linear-gradient(var(--sklearn-color-text-on-default-background), var(--sklearn-color-text-on-default-background));\n",
       "  background-size: 2px 100%;\n",
       "  background-repeat: no-repeat;\n",
       "  background-position: center center;\n",
       "}\n",
       "\n",
       "/* Parallel-specific style estimator block */\n",
       "\n",
       "#sk-container-id-1 div.sk-parallel-item::after {\n",
       "  content: \"\";\n",
       "  width: 100%;\n",
       "  border-bottom: 2px solid var(--sklearn-color-text-on-default-background);\n",
       "  flex-grow: 1;\n",
       "}\n",
       "\n",
       "#sk-container-id-1 div.sk-parallel {\n",
       "  display: flex;\n",
       "  align-items: stretch;\n",
       "  justify-content: center;\n",
       "  background-color: var(--sklearn-color-background);\n",
       "  position: relative;\n",
       "}\n",
       "\n",
       "#sk-container-id-1 div.sk-parallel-item {\n",
       "  display: flex;\n",
       "  flex-direction: column;\n",
       "}\n",
       "\n",
       "#sk-container-id-1 div.sk-parallel-item:first-child::after {\n",
       "  align-self: flex-end;\n",
       "  width: 50%;\n",
       "}\n",
       "\n",
       "#sk-container-id-1 div.sk-parallel-item:last-child::after {\n",
       "  align-self: flex-start;\n",
       "  width: 50%;\n",
       "}\n",
       "\n",
       "#sk-container-id-1 div.sk-parallel-item:only-child::after {\n",
       "  width: 0;\n",
       "}\n",
       "\n",
       "/* Serial-specific style estimator block */\n",
       "\n",
       "#sk-container-id-1 div.sk-serial {\n",
       "  display: flex;\n",
       "  flex-direction: column;\n",
       "  align-items: center;\n",
       "  background-color: var(--sklearn-color-background);\n",
       "  padding-right: 1em;\n",
       "  padding-left: 1em;\n",
       "}\n",
       "\n",
       "\n",
       "/* Toggleable style: style used for estimator/Pipeline/ColumnTransformer box that is\n",
       "clickable and can be expanded/collapsed.\n",
       "- Pipeline and ColumnTransformer use this feature and define the default style\n",
       "- Estimators will overwrite some part of the style using the `sk-estimator` class\n",
       "*/\n",
       "\n",
       "/* Pipeline and ColumnTransformer style (default) */\n",
       "\n",
       "#sk-container-id-1 div.sk-toggleable {\n",
       "  /* Default theme specific background. It is overwritten whether we have a\n",
       "  specific estimator or a Pipeline/ColumnTransformer */\n",
       "  background-color: var(--sklearn-color-background);\n",
       "}\n",
       "\n",
       "/* Toggleable label */\n",
       "#sk-container-id-1 label.sk-toggleable__label {\n",
       "  cursor: pointer;\n",
       "  display: block;\n",
       "  width: 100%;\n",
       "  margin-bottom: 0;\n",
       "  padding: 0.5em;\n",
       "  box-sizing: border-box;\n",
       "  text-align: center;\n",
       "}\n",
       "\n",
       "#sk-container-id-1 label.sk-toggleable__label-arrow:before {\n",
       "  /* Arrow on the left of the label */\n",
       "  content: \"▸\";\n",
       "  float: left;\n",
       "  margin-right: 0.25em;\n",
       "  color: var(--sklearn-color-icon);\n",
       "}\n",
       "\n",
       "#sk-container-id-1 label.sk-toggleable__label-arrow:hover:before {\n",
       "  color: var(--sklearn-color-text);\n",
       "}\n",
       "\n",
       "/* Toggleable content - dropdown */\n",
       "\n",
       "#sk-container-id-1 div.sk-toggleable__content {\n",
       "  max-height: 0;\n",
       "  max-width: 0;\n",
       "  overflow: hidden;\n",
       "  text-align: left;\n",
       "  /* unfitted */\n",
       "  background-color: var(--sklearn-color-unfitted-level-0);\n",
       "}\n",
       "\n",
       "#sk-container-id-1 div.sk-toggleable__content.fitted {\n",
       "  /* fitted */\n",
       "  background-color: var(--sklearn-color-fitted-level-0);\n",
       "}\n",
       "\n",
       "#sk-container-id-1 div.sk-toggleable__content pre {\n",
       "  margin: 0.2em;\n",
       "  border-radius: 0.25em;\n",
       "  color: var(--sklearn-color-text);\n",
       "  /* unfitted */\n",
       "  background-color: var(--sklearn-color-unfitted-level-0);\n",
       "}\n",
       "\n",
       "#sk-container-id-1 div.sk-toggleable__content.fitted pre {\n",
       "  /* unfitted */\n",
       "  background-color: var(--sklearn-color-fitted-level-0);\n",
       "}\n",
       "\n",
       "#sk-container-id-1 input.sk-toggleable__control:checked~div.sk-toggleable__content {\n",
       "  /* Expand drop-down */\n",
       "  max-height: 200px;\n",
       "  max-width: 100%;\n",
       "  overflow: auto;\n",
       "}\n",
       "\n",
       "#sk-container-id-1 input.sk-toggleable__control:checked~label.sk-toggleable__label-arrow:before {\n",
       "  content: \"▾\";\n",
       "}\n",
       "\n",
       "/* Pipeline/ColumnTransformer-specific style */\n",
       "\n",
       "#sk-container-id-1 div.sk-label input.sk-toggleable__control:checked~label.sk-toggleable__label {\n",
       "  color: var(--sklearn-color-text);\n",
       "  background-color: var(--sklearn-color-unfitted-level-2);\n",
       "}\n",
       "\n",
       "#sk-container-id-1 div.sk-label.fitted input.sk-toggleable__control:checked~label.sk-toggleable__label {\n",
       "  background-color: var(--sklearn-color-fitted-level-2);\n",
       "}\n",
       "\n",
       "/* Estimator-specific style */\n",
       "\n",
       "/* Colorize estimator box */\n",
       "#sk-container-id-1 div.sk-estimator input.sk-toggleable__control:checked~label.sk-toggleable__label {\n",
       "  /* unfitted */\n",
       "  background-color: var(--sklearn-color-unfitted-level-2);\n",
       "}\n",
       "\n",
       "#sk-container-id-1 div.sk-estimator.fitted input.sk-toggleable__control:checked~label.sk-toggleable__label {\n",
       "  /* fitted */\n",
       "  background-color: var(--sklearn-color-fitted-level-2);\n",
       "}\n",
       "\n",
       "#sk-container-id-1 div.sk-label label.sk-toggleable__label,\n",
       "#sk-container-id-1 div.sk-label label {\n",
       "  /* The background is the default theme color */\n",
       "  color: var(--sklearn-color-text-on-default-background);\n",
       "}\n",
       "\n",
       "/* On hover, darken the color of the background */\n",
       "#sk-container-id-1 div.sk-label:hover label.sk-toggleable__label {\n",
       "  color: var(--sklearn-color-text);\n",
       "  background-color: var(--sklearn-color-unfitted-level-2);\n",
       "}\n",
       "\n",
       "/* Label box, darken color on hover, fitted */\n",
       "#sk-container-id-1 div.sk-label.fitted:hover label.sk-toggleable__label.fitted {\n",
       "  color: var(--sklearn-color-text);\n",
       "  background-color: var(--sklearn-color-fitted-level-2);\n",
       "}\n",
       "\n",
       "/* Estimator label */\n",
       "\n",
       "#sk-container-id-1 div.sk-label label {\n",
       "  font-family: monospace;\n",
       "  font-weight: bold;\n",
       "  display: inline-block;\n",
       "  line-height: 1.2em;\n",
       "}\n",
       "\n",
       "#sk-container-id-1 div.sk-label-container {\n",
       "  text-align: center;\n",
       "}\n",
       "\n",
       "/* Estimator-specific */\n",
       "#sk-container-id-1 div.sk-estimator {\n",
       "  font-family: monospace;\n",
       "  border: 1px dotted var(--sklearn-color-border-box);\n",
       "  border-radius: 0.25em;\n",
       "  box-sizing: border-box;\n",
       "  margin-bottom: 0.5em;\n",
       "  /* unfitted */\n",
       "  background-color: var(--sklearn-color-unfitted-level-0);\n",
       "}\n",
       "\n",
       "#sk-container-id-1 div.sk-estimator.fitted {\n",
       "  /* fitted */\n",
       "  background-color: var(--sklearn-color-fitted-level-0);\n",
       "}\n",
       "\n",
       "/* on hover */\n",
       "#sk-container-id-1 div.sk-estimator:hover {\n",
       "  /* unfitted */\n",
       "  background-color: var(--sklearn-color-unfitted-level-2);\n",
       "}\n",
       "\n",
       "#sk-container-id-1 div.sk-estimator.fitted:hover {\n",
       "  /* fitted */\n",
       "  background-color: var(--sklearn-color-fitted-level-2);\n",
       "}\n",
       "\n",
       "/* Specification for estimator info (e.g. \"i\" and \"?\") */\n",
       "\n",
       "/* Common style for \"i\" and \"?\" */\n",
       "\n",
       ".sk-estimator-doc-link,\n",
       "a:link.sk-estimator-doc-link,\n",
       "a:visited.sk-estimator-doc-link {\n",
       "  float: right;\n",
       "  font-size: smaller;\n",
       "  line-height: 1em;\n",
       "  font-family: monospace;\n",
       "  background-color: var(--sklearn-color-background);\n",
       "  border-radius: 1em;\n",
       "  height: 1em;\n",
       "  width: 1em;\n",
       "  text-decoration: none !important;\n",
       "  margin-left: 1ex;\n",
       "  /* unfitted */\n",
       "  border: var(--sklearn-color-unfitted-level-1) 1pt solid;\n",
       "  color: var(--sklearn-color-unfitted-level-1);\n",
       "}\n",
       "\n",
       ".sk-estimator-doc-link.fitted,\n",
       "a:link.sk-estimator-doc-link.fitted,\n",
       "a:visited.sk-estimator-doc-link.fitted {\n",
       "  /* fitted */\n",
       "  border: var(--sklearn-color-fitted-level-1) 1pt solid;\n",
       "  color: var(--sklearn-color-fitted-level-1);\n",
       "}\n",
       "\n",
       "/* On hover */\n",
       "div.sk-estimator:hover .sk-estimator-doc-link:hover,\n",
       ".sk-estimator-doc-link:hover,\n",
       "div.sk-label-container:hover .sk-estimator-doc-link:hover,\n",
       ".sk-estimator-doc-link:hover {\n",
       "  /* unfitted */\n",
       "  background-color: var(--sklearn-color-unfitted-level-3);\n",
       "  color: var(--sklearn-color-background);\n",
       "  text-decoration: none;\n",
       "}\n",
       "\n",
       "div.sk-estimator.fitted:hover .sk-estimator-doc-link.fitted:hover,\n",
       ".sk-estimator-doc-link.fitted:hover,\n",
       "div.sk-label-container:hover .sk-estimator-doc-link.fitted:hover,\n",
       ".sk-estimator-doc-link.fitted:hover {\n",
       "  /* fitted */\n",
       "  background-color: var(--sklearn-color-fitted-level-3);\n",
       "  color: var(--sklearn-color-background);\n",
       "  text-decoration: none;\n",
       "}\n",
       "\n",
       "/* Span, style for the box shown on hovering the info icon */\n",
       ".sk-estimator-doc-link span {\n",
       "  display: none;\n",
       "  z-index: 9999;\n",
       "  position: relative;\n",
       "  font-weight: normal;\n",
       "  right: .2ex;\n",
       "  padding: .5ex;\n",
       "  margin: .5ex;\n",
       "  width: min-content;\n",
       "  min-width: 20ex;\n",
       "  max-width: 50ex;\n",
       "  color: var(--sklearn-color-text);\n",
       "  box-shadow: 2pt 2pt 4pt #999;\n",
       "  /* unfitted */\n",
       "  background: var(--sklearn-color-unfitted-level-0);\n",
       "  border: .5pt solid var(--sklearn-color-unfitted-level-3);\n",
       "}\n",
       "\n",
       ".sk-estimator-doc-link.fitted span {\n",
       "  /* fitted */\n",
       "  background: var(--sklearn-color-fitted-level-0);\n",
       "  border: var(--sklearn-color-fitted-level-3);\n",
       "}\n",
       "\n",
       ".sk-estimator-doc-link:hover span {\n",
       "  display: block;\n",
       "}\n",
       "\n",
       "/* \"?\"-specific style due to the `<a>` HTML tag */\n",
       "\n",
       "#sk-container-id-1 a.estimator_doc_link {\n",
       "  float: right;\n",
       "  font-size: 1rem;\n",
       "  line-height: 1em;\n",
       "  font-family: monospace;\n",
       "  background-color: var(--sklearn-color-background);\n",
       "  border-radius: 1rem;\n",
       "  height: 1rem;\n",
       "  width: 1rem;\n",
       "  text-decoration: none;\n",
       "  /* unfitted */\n",
       "  color: var(--sklearn-color-unfitted-level-1);\n",
       "  border: var(--sklearn-color-unfitted-level-1) 1pt solid;\n",
       "}\n",
       "\n",
       "#sk-container-id-1 a.estimator_doc_link.fitted {\n",
       "  /* fitted */\n",
       "  border: var(--sklearn-color-fitted-level-1) 1pt solid;\n",
       "  color: var(--sklearn-color-fitted-level-1);\n",
       "}\n",
       "\n",
       "/* On hover */\n",
       "#sk-container-id-1 a.estimator_doc_link:hover {\n",
       "  /* unfitted */\n",
       "  background-color: var(--sklearn-color-unfitted-level-3);\n",
       "  color: var(--sklearn-color-background);\n",
       "  text-decoration: none;\n",
       "}\n",
       "\n",
       "#sk-container-id-1 a.estimator_doc_link.fitted:hover {\n",
       "  /* fitted */\n",
       "  background-color: var(--sklearn-color-fitted-level-3);\n",
       "}\n",
       "</style><div id=\"sk-container-id-1\" class=\"sk-top-container\"><div class=\"sk-text-repr-fallback\"><pre>GaussianNB()</pre><b>In a Jupyter environment, please rerun this cell to show the HTML representation or trust the notebook. <br />On GitHub, the HTML representation is unable to render, please try loading this page with nbviewer.org.</b></div><div class=\"sk-container\" hidden><div class=\"sk-item\"><div class=\"sk-estimator fitted sk-toggleable\"><input class=\"sk-toggleable__control sk-hidden--visually\" id=\"sk-estimator-id-1\" type=\"checkbox\" checked><label for=\"sk-estimator-id-1\" class=\"sk-toggleable__label fitted sk-toggleable__label-arrow fitted\">&nbsp;&nbsp;GaussianNB<a class=\"sk-estimator-doc-link fitted\" rel=\"noreferrer\" target=\"_blank\" href=\"https://scikit-learn.org/1.4/modules/generated/sklearn.naive_bayes.GaussianNB.html\">?<span>Documentation for GaussianNB</span></a><span class=\"sk-estimator-doc-link fitted\">i<span>Fitted</span></span></label><div class=\"sk-toggleable__content fitted\"><pre>GaussianNB()</pre></div> </div></div></div></div>"
      ],
      "text/plain": [
       "GaussianNB()"
      ]
     },
     "execution_count": 46,
     "metadata": {},
     "output_type": "execute_result"
    }
   ],
   "source": [
    "gnb.fit(X_train,y_train)"
   ]
  },
  {
   "cell_type": "code",
   "execution_count": 47,
   "metadata": {},
   "outputs": [],
   "source": [
    "predictions = gnb.predict(X_test)"
   ]
  },
  {
   "cell_type": "code",
   "execution_count": 48,
   "metadata": {},
   "outputs": [
    {
     "data": {
      "image/png": "[encoded data removed]",
      "text/plain": [
       "<Figure size 640x480 with 2 Axes>"
      ]
     },
     "metadata": {},
     "output_type": "display_data"
    }
   ],
   "source": [
    "cm = confusion_matrix(y_test, predictions, labels=gnb.classes_);\n",
    "disp = ConfusionMatrixDisplay(confusion_matrix=cm, display_labels=gnb.classes_);\n",
    "disp.plot()\n",
    "plt.show()"
   ]
  },
  {
   "cell_type": "code",
   "execution_count": 49,
   "metadata": {},
   "outputs": [
    {
     "name": "stdout",
     "output_type": "stream",
     "text": [
      "Metrics for best model\n",
      "Accuracy: 95.99%\n",
      "Precision: 90.15%\n",
      "Recall: 95.13%\n",
      "F1 score: 92.58%\n"
     ]
    }
   ],
   "source": [
    "print('Metrics for best model')\n",
    "print('Accuracy: {:.2f}%'.format(accuracy_score(y_test,predictions)*100))\n",
    "print('Precision: {:.2f}%'.format(precision_score(y_test,predictions)*100))\n",
    "print('Recall: {:.2f}%'.format(recall_score(y_test,predictions)*100))\n",
    "print('F1 score: {:.2f}%'.format(f1_score(y_test,predictions)*100))"
   ]
  },
  {
   "cell_type": "code",
   "execution_count": 51,
   "metadata": {},
   "outputs": [
    {
     "name": "stdout",
     "output_type": "stream",
     "text": [
      "              precision    recall  f1-score   support\n",
      "\n",
      "         ham       0.98      0.96      0.97       863\n",
      "        spam       0.90      0.95      0.93       308\n",
      "\n",
      "    accuracy                           0.96      1171\n",
      "   macro avg       0.94      0.96      0.95      1171\n",
      "weighted avg       0.96      0.96      0.96      1171\n",
      "\n"
     ]
    }
   ],
   "source": [
    "print(classification_report(y_test,predictions,target_names=[\"ham\",\"spam\"]))"
   ]
  },
  {
   "cell_type": "code",
   "execution_count": 53,
   "metadata": {},
   "outputs": [
    {
     "data": {
      "text/plain": [
       "['spam_model.pkl']"
      ]
     },
     "execution_count": 53,
     "metadata": {},
     "output_type": "execute_result"
    }
   ],
   "source": [
    "# Save the model\n",
    "joblib.dump(gnb, \"spam_model.pkl\")"
   ]
  },
  {
   "cell_type": "markdown",
   "metadata": {},
   "source": [
    "The model performs well in classifying if an email is a spam or not."
   ]
  }
 ],
 "metadata": {
  "kernelspec": {
   "display_name": "base",
   "language": "python",
   "name": "python3"
  },
  "language_info": {
   "codemirror_mode": {
    "name": "ipython",
    "version": 3
   },
   "file_extension": ".py",
   "mimetype": "text/x-python",
   "name": "python",
   "nbconvert_exporter": "python",
   "pygments_lexer": "ipython3",
   "version": "3.12.4"
  }
 },
 "nbformat": 4,
 "nbformat_minor": 2
}
